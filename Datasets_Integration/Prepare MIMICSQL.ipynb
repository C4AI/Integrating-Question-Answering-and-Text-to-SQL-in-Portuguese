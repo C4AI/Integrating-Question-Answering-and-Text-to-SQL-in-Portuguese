{
 "cells": [
  {
   "cell_type": "code",
   "execution_count": 1,
   "id": "9a774ef9",
   "metadata": {},
   "outputs": [],
   "source": [
    "PATH_KNOWLEDGE_BASE = 'mimicsql_natural_v2'\n",
    "\n",
    "PATH_SAVE = 'MIMICSQL_csv'\n"
   ]
  },
  {
   "cell_type": "code",
   "execution_count": null,
   "id": "cd6ec938",
   "metadata": {},
   "outputs": [],
   "source": []
  },
  {
   "cell_type": "code",
   "execution_count": 2,
   "id": "738143db",
   "metadata": {},
   "outputs": [],
   "source": [
    "import pandas as pd\n",
    "import json\n",
    "\n",
    "def read_Json(filename, quantity):\n",
    "    # Opening JSON file\n",
    "    original_file = []\n",
    "    for line in open(filename, 'r'):\n",
    "        original_file.append(json.loads(line))\n",
    "    \n",
    "    qas = []\n",
    "    for dic in original_file:\n",
    "        qas.append(dic[\"question_refine\"])\n",
    "    \n",
    "    qas = pd.DataFrame(qas, columns=[\"question\"])\n",
    "    \n",
    "    return(qas)\n",
    "    \n",
    "\n",
    "    \n",
    "qas_train = read_Json(PATH_KNOWLEDGE_BASE + \"/train.json\", 100000000)\n",
    "qas_test = read_Json(PATH_KNOWLEDGE_BASE + \"/test.json\", 100000000)\n",
    "qas_dev = read_Json(PATH_KNOWLEDGE_BASE + \"/dev.json\", 100000000)\n",
    "\n",
    "#print(test[0])\n",
    "\n"
   ]
  },
  {
   "cell_type": "code",
   "execution_count": 3,
   "id": "0986127f",
   "metadata": {},
   "outputs": [],
   "source": [
    "qas_train.to_csv(PATH_SAVE + \"/train.csv\")\n",
    "qas_test.to_csv(PATH_SAVE + \"/test.csv\")\n",
    "qas_dev.to_csv(PATH_SAVE + \"/dev.csv\")"
   ]
  }
 ],
 "metadata": {
  "kernelspec": {
   "display_name": "Python 3 (ipykernel)",
   "language": "python",
   "name": "python3"
  },
  "language_info": {
   "codemirror_mode": {
    "name": "ipython",
    "version": 3
   },
   "file_extension": ".py",
   "mimetype": "text/x-python",
   "name": "python",
   "nbconvert_exporter": "python",
   "pygments_lexer": "ipython3",
   "version": "3.9.7"
  }
 },
 "nbformat": 4,
 "nbformat_minor": 5
}
