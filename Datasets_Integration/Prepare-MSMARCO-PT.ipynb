{
 "cells": [
  {
   "cell_type": "code",
   "execution_count": 1,
   "id": "b51ac2bb",
   "metadata": {},
   "outputs": [],
   "source": [
    "PATH_KNOWLEDGE_TRAIN_BASE = 'MSMARCO_Biomedical/squad.biomedical.train.json'\n",
    "PATH_KNOWLEDGE_DEV_BASE = 'MSMARCO_Biomedical/squad.biomedical.dev.json'\n",
    "PATH_KNOWLEDGE_TEST_BASE = 'MSMARCO_Biomedical/squad.biomedical.test.json'\n",
    "\n",
    "\n",
    "PATH_SAVE = 'MSMARCO_Biomedical_csv'\n"
   ]
  },
  {
   "cell_type": "code",
   "execution_count": 2,
   "id": "bd835ef2",
   "metadata": {},
   "outputs": [],
   "source": [
    "import pandas as pd\n",
    "import json\n",
    "\n",
    "def read_Json(filename, quantity):\n",
    "    # Opening JSON file\n",
    "    f = open(filename)\n",
    "\n",
    "    # returns JSON object as\n",
    "    # a dictionary\n",
    "    data = json.load(f)\n",
    "    qas = []\n",
    "    count = 0\n",
    "    for i in data[\"data\"]:\n",
    "        dic = i[\"paragraphs\"][0]\n",
    "        qa = [dic[\"context\"],\n",
    "               dic[\"qas\"][0][\"question\"],\n",
    "               dic[\"qas\"][0][\"answers\"][0][\"text\"]\n",
    "        ]\n",
    "        \n",
    "        qas.append(qa)\n",
    "        count+=1\n",
    "        if count >= quantity :\n",
    "            break\n",
    "    qas = pd.DataFrame(qas, columns=[\"context\",\"question\", \"answer\"])\n",
    "    \n",
    "    return(qas)\n",
    "    \n",
    "\n",
    "    \n",
    "qas_train = read_Json(PATH_KNOWLEDGE_TRAIN_BASE, 100000000)\n",
    "qas_test = read_Json(PATH_KNOWLEDGE_TEST_BASE, 100000000)\n",
    "qas_dev = read_Json(PATH_KNOWLEDGE_DEV_BASE, 100000000)\n",
    "\n",
    "#print(test[0])\n",
    "\n"
   ]
  },
  {
   "cell_type": "code",
   "execution_count": 3,
   "id": "238248f4",
   "metadata": {},
   "outputs": [
    {
     "data": {
      "text/html": [
       "<div>\n",
       "<style scoped>\n",
       "    .dataframe tbody tr th:only-of-type {\n",
       "        vertical-align: middle;\n",
       "    }\n",
       "\n",
       "    .dataframe tbody tr th {\n",
       "        vertical-align: top;\n",
       "    }\n",
       "\n",
       "    .dataframe thead th {\n",
       "        text-align: right;\n",
       "    }\n",
       "</style>\n",
       "<table border=\"1\" class=\"dataframe\">\n",
       "  <thead>\n",
       "    <tr style=\"text-align: right;\">\n",
       "      <th></th>\n",
       "      <th>context</th>\n",
       "      <th>question</th>\n",
       "      <th>answer</th>\n",
       "    </tr>\n",
       "  </thead>\n",
       "  <tbody>\n",
       "    <tr>\n",
       "      <th>0</th>\n",
       "      <td>Chronic Obstructive Pulmonary Disease and Soci...</td>\n",
       "      <td>what disability is copd</td>\n",
       "      <td>Chronic Obstructive Pulmonary Disease and Soci...</td>\n",
       "    </tr>\n",
       "    <tr>\n",
       "      <th>1</th>\n",
       "      <td>Folic acid is the synthetic form of B9, found ...</td>\n",
       "      <td>what does folic acid do</td>\n",
       "      <td>crucial for proper brain function and plays an...</td>\n",
       "    </tr>\n",
       "    <tr>\n",
       "      <th>2</th>\n",
       "      <td>So which minerals do you need, and how do you ...</td>\n",
       "      <td>the importance of minerals in diet</td>\n",
       "      <td>Minerals are incredibly important for health a...</td>\n",
       "    </tr>\n",
       "    <tr>\n",
       "      <th>3</th>\n",
       "      <td>A triglyceride is an ester derived from glycer...</td>\n",
       "      <td>triglycerides what are they</td>\n",
       "      <td>A triglyceride is an ester derived from glycer...</td>\n",
       "    </tr>\n",
       "    <tr>\n",
       "      <th>4</th>\n",
       "      <td>What causes tooth root resorption? A: A study ...</td>\n",
       "      <td>what causes resorption of teeth</td>\n",
       "      <td>trauma, periodontitis, orthodontic treatment, ...</td>\n",
       "    </tr>\n",
       "  </tbody>\n",
       "</table>\n",
       "</div>"
      ],
      "text/plain": [
       "                                             context  \\\n",
       "0  Chronic Obstructive Pulmonary Disease and Soci...   \n",
       "1  Folic acid is the synthetic form of B9, found ...   \n",
       "2  So which minerals do you need, and how do you ...   \n",
       "3  A triglyceride is an ester derived from glycer...   \n",
       "4  What causes tooth root resorption? A: A study ...   \n",
       "\n",
       "                             question  \\\n",
       "0             what disability is copd   \n",
       "1             what does folic acid do   \n",
       "2  the importance of minerals in diet   \n",
       "3         triglycerides what are they   \n",
       "4     what causes resorption of teeth   \n",
       "\n",
       "                                              answer  \n",
       "0  Chronic Obstructive Pulmonary Disease and Soci...  \n",
       "1  crucial for proper brain function and plays an...  \n",
       "2  Minerals are incredibly important for health a...  \n",
       "3  A triglyceride is an ester derived from glycer...  \n",
       "4  trauma, periodontitis, orthodontic treatment, ...  "
      ]
     },
     "execution_count": 3,
     "metadata": {},
     "output_type": "execute_result"
    }
   ],
   "source": [
    "qas_train.head()"
   ]
  },
  {
   "cell_type": "code",
   "execution_count": 4,
   "id": "a63d1391",
   "metadata": {},
   "outputs": [],
   "source": [
    "qas_train.to_csv(PATH_SAVE + \"/train.csv\")\n",
    "qas_test.to_csv(PATH_SAVE + \"/test.csv\")\n",
    "qas_dev.to_csv(PATH_SAVE + \"/dev.csv\")"
   ]
  },
  {
   "cell_type": "code",
   "execution_count": null,
   "id": "b76b7354",
   "metadata": {},
   "outputs": [],
   "source": []
  },
  {
   "cell_type": "code",
   "execution_count": null,
   "id": "e8906226",
   "metadata": {},
   "outputs": [],
   "source": []
  }
 ],
 "metadata": {
  "kernelspec": {
   "display_name": "Python 3 (ipykernel)",
   "language": "python",
   "name": "python3"
  },
  "language_info": {
   "codemirror_mode": {
    "name": "ipython",
    "version": 3
   },
   "file_extension": ".py",
   "mimetype": "text/x-python",
   "name": "python",
   "nbconvert_exporter": "python",
   "pygments_lexer": "ipython3",
   "version": "3.9.7"
  }
 },
 "nbformat": 4,
 "nbformat_minor": 5
}
