{
 "cells": [
  {
   "cell_type": "markdown",
   "metadata": {},
   "source": [
    "# Training PTT5"
   ]
  },
  {
   "cell_type": "code",
   "execution_count": 1,
   "metadata": {},
   "outputs": [],
   "source": [
    "model_save = \"T5_PT\"\n",
    "\n",
    "\n",
    "PATH_QUESTIONS_SAVE = 'MSMARCO_biomedical_100_pt_true/'\n",
    "model_checkpoint = \"unicamp-dl/ptt5-small-portuguese-vocab\""
   ]
  },
  {
   "cell_type": "markdown",
   "metadata": {},
   "source": [
    "## Reading dataset"
   ]
  },
  {
   "cell_type": "code",
   "execution_count": 2,
   "metadata": {},
   "outputs": [],
   "source": [
    "import pandas as pd\n",
    "\n",
    "pd_dataset_train = pd.read_csv(PATH_QUESTIONS_SAVE + \"train.csv\")\n",
    "pd_dataset_val = pd.read_csv(PATH_QUESTIONS_SAVE + \"val.csv\")\n",
    "pd_dataset_test = pd.read_csv(PATH_QUESTIONS_SAVE + \"test.csv\")\n"
   ]
  },
  {
   "cell_type": "code",
   "execution_count": 3,
   "metadata": {},
   "outputs": [
    {
     "name": "stderr",
     "output_type": "stream",
     "text": [
      "2021-10-15 14:15:54.861254: I tensorflow/stream_executor/platform/default/dso_loader.cc:53] Successfully opened dynamic library libcudart.so.11.0\n"
     ]
    }
   ],
   "source": [
    "from datasets import load_dataset, load_metric, DatasetDict, Dataset\n",
    "\n",
    "#raw_datasets = load_dataset(\"xsum\")\n",
    "dataset_train = Dataset.from_pandas(df=pd_dataset_train)\n",
    "dataset_val = Dataset.from_pandas(df=pd_dataset_val)\n",
    "dataset_test = Dataset.from_pandas(df=pd_dataset_test)\n",
    "\n",
    "\n",
    "\n",
    "raw_datasets = DatasetDict({\n",
    "    'train': dataset_train,\n",
    "    'validation': dataset_val,\n",
    "    'test': dataset_test})\n"
   ]
  },
  {
   "cell_type": "markdown",
   "metadata": {},
   "source": []
  },
  {
   "cell_type": "code",
   "execution_count": 4,
   "metadata": {},
   "outputs": [],
   "source": [
    "from transformers import AutoTokenizer, T5Tokenizer, T5TokenizerFast, TFT5Model, TFT5ForConditionalGeneration\n",
    "\n",
    "#tokenizer = AutoTokenizer.from_pretrained(model_checkpoint)\n",
    "tokenizer = AutoTokenizer.from_pretrained(model_checkpoint)"
   ]
  },
  {
   "cell_type": "code",
   "execution_count": 5,
   "metadata": {},
   "outputs": [],
   "source": [
    "max_input_length = 512\n",
    "max_target_length = 128\n",
    "\n",
    "def preprocess_input(examples):\n",
    "    model_inputs = tokenizer(examples[\"question\"], max_length=max_input_length, truncation=True)\n",
    "    return model_inputs\n",
    "\n",
    "def preprocess_function(examples):\n",
    "    model_inputs = preprocess_input(examples)\n",
    "    # Setup the tokenizer for targets\n",
    "    labels = tokenizer(examples[\"answer\"], max_length=max_target_length, truncation=True)\n",
    "\n",
    "    model_inputs[\"labels\"] = labels[\"input_ids\"]\n",
    "    return model_inputs"
   ]
  },
  {
   "cell_type": "code",
   "execution_count": 6,
   "metadata": {},
   "outputs": [
    {
     "data": {
      "application/vnd.jupyter.widget-view+json": {
       "model_id": "f4e585281f3b430ebce1a0ca301fa097",
       "version_major": 2,
       "version_minor": 0
      },
      "text/plain": [
       "  0%|          | 0/23 [00:00<?, ?ba/s]"
      ]
     },
     "metadata": {},
     "output_type": "display_data"
    },
    {
     "data": {
      "application/vnd.jupyter.widget-view+json": {
       "model_id": "5846be47584241c8856338ffbe73e329",
       "version_major": 2,
       "version_minor": 0
      },
      "text/plain": [
       "  0%|          | 0/5 [00:00<?, ?ba/s]"
      ]
     },
     "metadata": {},
     "output_type": "display_data"
    },
    {
     "data": {
      "application/vnd.jupyter.widget-view+json": {
       "model_id": "5b5fe7bc6b4c4a939f2064038605e90c",
       "version_major": 2,
       "version_minor": 0
      },
      "text/plain": [
       "  0%|          | 0/5 [00:00<?, ?ba/s]"
      ]
     },
     "metadata": {},
     "output_type": "display_data"
    }
   ],
   "source": [
    "tokenized_datasets = raw_datasets.map(preprocess_function, batched=True)"
   ]
  },
  {
   "cell_type": "code",
   "execution_count": 7,
   "metadata": {},
   "outputs": [],
   "source": [
    "from transformers import AutoModelForSeq2SeqLM, DataCollatorForSeq2Seq, Seq2SeqTrainingArguments, Seq2SeqTrainer\n",
    "\n",
    "model = AutoModelForSeq2SeqLM.from_pretrained(model_checkpoint)"
   ]
  },
  {
   "cell_type": "code",
   "execution_count": 8,
   "metadata": {},
   "outputs": [],
   "source": [
    "import nltk\n",
    "#nltk.download('punkt')\n",
    "import numpy as np\n",
    "\n",
    "def compute_metrics(eval_pred):\n",
    "    predictions, labels = eval_pred\n",
    "    decoded_preds = tokenizer.batch_decode(predictions, skip_special_tokens=True)\n",
    "    # Replace -100 in the labels as we can't decode them.\n",
    "    labels = np.where(labels != -100, labels, tokenizer.pad_token_id)\n",
    "    decoded_labels = tokenizer.batch_decode(labels, skip_special_tokens=True)\n",
    "    \n",
    "    result = metric.compute(predictions=decoded_preds, references=decoded_labels, use_stemmer=True)\n",
    "    # Extract a few results\n",
    "    result = {key: value.mid.fmeasure * 100 for key, value in result.items()}\n",
    "    \n",
    "    # Add mean generated length\n",
    "    prediction_lens = [np.count_nonzero(pred != tokenizer.pad_token_id) for pred in predictions]\n",
    "    result[\"gen_len\"] = np.mean(prediction_lens)\n",
    "    \n",
    "    return {k: round(v, 4) for k, v in result.items()}\n",
    "\n"
   ]
  },
  {
   "cell_type": "code",
   "execution_count": 9,
   "metadata": {},
   "outputs": [],
   "source": [
    "batch_size = 6\n",
    "args = Seq2SeqTrainingArguments(\n",
    "    \"test\",\n",
    "    evaluation_strategy = \"epoch\",\n",
    "    learning_rate=2e-5,\n",
    "    per_device_train_batch_size=batch_size,\n",
    "    per_device_eval_batch_size=batch_size,\n",
    "    weight_decay=0.01,\n",
    "    save_total_limit=3,\n",
    "    num_train_epochs=30,\n",
    "    predict_with_generate=True,\n",
    "    fp16=True,\n",
    "    gradient_accumulation_steps = 4\n",
    ")"
   ]
  },
  {
   "cell_type": "code",
   "execution_count": 10,
   "metadata": {},
   "outputs": [],
   "source": [
    "data_collator = DataCollatorForSeq2Seq(tokenizer, model=model)"
   ]
  },
  {
   "cell_type": "code",
   "execution_count": 11,
   "metadata": {},
   "outputs": [
    {
     "name": "stdout",
     "output_type": "stream",
     "text": [
      "huggingface/tokenizers: The current process just got forked, after parallelism has already been used. Disabling parallelism to avoid deadlocks...\n",
      "To disable this warning, you can either:\n",
      "\t- Avoid using `tokenizers` before the fork if possible\n",
      "\t- Explicitly set the environment variable TOKENIZERS_PARALLELISM=(true | false)\n",
      "huggingface/tokenizers: The current process just got forked, after parallelism has already been used. Disabling parallelism to avoid deadlocks...\n",
      "To disable this warning, you can either:\n",
      "\t- Avoid using `tokenizers` before the fork if possible\n",
      "\t- Explicitly set the environment variable TOKENIZERS_PARALLELISM=(true | false)\n",
      "huggingface/tokenizers: The current process just got forked, after parallelism has already been used. Disabling parallelism to avoid deadlocks...\n",
      "To disable this warning, you can either:\n",
      "\t- Avoid using `tokenizers` before the fork if possible\n",
      "\t- Explicitly set the environment variable TOKENIZERS_PARALLELISM=(true | false)\n"
     ]
    },
    {
     "name": "stderr",
     "output_type": "stream",
     "text": [
      "Using amp fp16 backend\n"
     ]
    }
   ],
   "source": [
    "trainer = Seq2SeqTrainer(\n",
    "    model,\n",
    "    args,\n",
    "    train_dataset=tokenized_datasets[\"train\"],\n",
    "    eval_dataset=tokenized_datasets[\"validation\"],\n",
    "    data_collator=data_collator,\n",
    "    tokenizer=tokenizer,\n",
    ")"
   ]
  },
  {
   "cell_type": "code",
   "execution_count": null,
   "metadata": {},
   "outputs": [
    {
     "name": "stderr",
     "output_type": "stream",
     "text": [
      "The following columns in the training set  don't have a corresponding argument in `T5ForConditionalGeneration.forward` and have been ignored: answer, question, Unnamed: 0.\n",
      "***** Running training *****\n",
      "  Num examples = 22134\n",
      "  Num Epochs = 30\n",
      "  Instantaneous batch size per device = 6\n",
      "  Total train batch size (w. parallel, distributed & accumulation) = 48\n",
      "  Gradient Accumulation steps = 4\n",
      "  Total optimization steps = 13830\n",
      "Automatic Weights & Biases logging enabled, to disable set os.environ[\"WANDB_DISABLED\"] = \"true\"\n",
      "\u001b[34m\u001b[1mwandb\u001b[0m: Currently logged in as: \u001b[33mmmenon\u001b[0m (use `wandb login --relogin` to force relogin)\n"
     ]
    },
    {
     "name": "stdout",
     "output_type": "stream",
     "text": [
      "huggingface/tokenizers: The current process just got forked, after parallelism has already been used. Disabling parallelism to avoid deadlocks...\n",
      "To disable this warning, you can either:\n",
      "\t- Avoid using `tokenizers` before the fork if possible\n",
      "\t- Explicitly set the environment variable TOKENIZERS_PARALLELISM=(true | false)\n",
      "huggingface/tokenizers: The current process just got forked, after parallelism has already been used. Disabling parallelism to avoid deadlocks...\n",
      "To disable this warning, you can either:\n",
      "\t- Avoid using `tokenizers` before the fork if possible\n",
      "\t- Explicitly set the environment variable TOKENIZERS_PARALLELISM=(true | false)\n"
     ]
    },
    {
     "name": "stderr",
     "output_type": "stream",
     "text": [
      "\u001b[34m\u001b[1mwandb\u001b[0m: wandb version 0.12.4 is available!  To upgrade, please run:\n",
      "\u001b[34m\u001b[1mwandb\u001b[0m:  $ pip install wandb --upgrade\n",
      "2021-10-15 14:16:11.607411: I tensorflow/stream_executor/platform/default/dso_loader.cc:53] Successfully opened dynamic library libcudart.so.11.0\n"
     ]
    },
    {
     "data": {
      "text/html": [
       "\n",
       "                Tracking run with wandb version 0.12.0<br/>\n",
       "                Syncing run <strong style=\"color:#cdcd00\">test</strong> to <a href=\"https://wandb.ai\" target=\"_blank\">Weights & Biases</a> <a href=\"https://docs.wandb.com/integrations/jupyter.html\" target=\"_blank\">(Documentation)</a>.<br/>\n",
       "                Project page: <a href=\"https://wandb.ai/mmenon/huggingface\" target=\"_blank\">https://wandb.ai/mmenon/huggingface</a><br/>\n",
       "                Run page: <a href=\"https://wandb.ai/mmenon/huggingface/runs/3kwolwfq\" target=\"_blank\">https://wandb.ai/mmenon/huggingface/runs/3kwolwfq</a><br/>\n",
       "                Run data is saved locally in <code>/home/blab-answerer/Factual_SQL_new/wandb/run-20211015_141610-3kwolwfq</code><br/><br/>\n",
       "            "
      ],
      "text/plain": [
       "<IPython.core.display.HTML object>"
      ]
     },
     "metadata": {},
     "output_type": "display_data"
    },
    {
     "name": "stderr",
     "output_type": "stream",
     "text": [
      "\n",
      "InvalidVersionSpec: Invalid version '1.0.0<4.0.0': invalid character(s)\n",
      "\n",
      "/home/blab-answerer/anaconda3/lib/python3.8/site-packages/torch/nn/parallel/_functions.py:65: UserWarning: Was asked to gather along dimension 0, but all input tensors were scalars; will instead unsqueeze and return a vector.\n",
      "  warnings.warn('Was asked to gather along dimension 0, but all '\n"
     ]
    },
    {
     "data": {
      "text/html": [
       "\n",
       "    <div>\n",
       "      \n",
       "      <progress value='3192' max='13830' style='width:300px; height:20px; vertical-align: middle;'></progress>\n",
       "      [ 3192/13830 43:49 < 2:26:08, 1.21 it/s, Epoch 6.92/30]\n",
       "    </div>\n",
       "    <table border=\"1\" class=\"dataframe\">\n",
       "  <thead>\n",
       "    <tr style=\"text-align: left;\">\n",
       "      <th>Epoch</th>\n",
       "      <th>Training Loss</th>\n",
       "      <th>Validation Loss</th>\n",
       "    </tr>\n",
       "  </thead>\n",
       "  <tbody>\n",
       "    <tr>\n",
       "      <td>0</td>\n",
       "      <td>No log</td>\n",
       "      <td>17.312767</td>\n",
       "    </tr>\n",
       "    <tr>\n",
       "      <td>1</td>\n",
       "      <td>2.034100</td>\n",
       "      <td>19.121254</td>\n",
       "    </tr>\n",
       "    <tr>\n",
       "      <td>2</td>\n",
       "      <td>0.014200</td>\n",
       "      <td>20.192142</td>\n",
       "    </tr>\n",
       "    <tr>\n",
       "      <td>3</td>\n",
       "      <td>0.004700</td>\n",
       "      <td>20.896149</td>\n",
       "    </tr>\n",
       "    <tr>\n",
       "      <td>4</td>\n",
       "      <td>0.002500</td>\n",
       "      <td>21.348606</td>\n",
       "    </tr>\n",
       "    <tr>\n",
       "      <td>5</td>\n",
       "      <td>0.001500</td>\n",
       "      <td>21.783646</td>\n",
       "    </tr>\n",
       "  </tbody>\n",
       "</table><p>"
      ],
      "text/plain": [
       "<IPython.core.display.HTML object>"
      ]
     },
     "metadata": {},
     "output_type": "display_data"
    },
    {
     "name": "stderr",
     "output_type": "stream",
     "text": [
      "The following columns in the evaluation set  don't have a corresponding argument in `T5ForConditionalGeneration.forward` and have been ignored: answer, question, Unnamed: 0.\n",
      "***** Running Evaluation *****\n",
      "  Num examples = 4743\n",
      "  Batch size = 12\n",
      "Saving model checkpoint to test/checkpoint-500\n",
      "Configuration saved in test/checkpoint-500/config.json\n",
      "Model weights saved in test/checkpoint-500/pytorch_model.bin\n",
      "tokenizer config file saved in test/checkpoint-500/tokenizer_config.json\n",
      "Special tokens file saved in test/checkpoint-500/special_tokens_map.json\n",
      "Copy vocab file to test/checkpoint-500/spiece.model\n",
      "Deleting older checkpoint [test/checkpoint-19500] due to args.save_total_limit\n",
      "/home/blab-answerer/anaconda3/lib/python3.8/site-packages/torch/nn/parallel/_functions.py:65: UserWarning: Was asked to gather along dimension 0, but all input tensors were scalars; will instead unsqueeze and return a vector.\n",
      "  warnings.warn('Was asked to gather along dimension 0, but all '\n",
      "The following columns in the evaluation set  don't have a corresponding argument in `T5ForConditionalGeneration.forward` and have been ignored: answer, question, Unnamed: 0.\n",
      "***** Running Evaluation *****\n",
      "  Num examples = 4743\n",
      "  Batch size = 12\n",
      "Saving model checkpoint to test/checkpoint-1000\n",
      "Configuration saved in test/checkpoint-1000/config.json\n",
      "Model weights saved in test/checkpoint-1000/pytorch_model.bin\n",
      "tokenizer config file saved in test/checkpoint-1000/tokenizer_config.json\n",
      "Special tokens file saved in test/checkpoint-1000/special_tokens_map.json\n",
      "Copy vocab file to test/checkpoint-1000/spiece.model\n",
      "Deleting older checkpoint [test/checkpoint-20000] due to args.save_total_limit\n",
      "/home/blab-answerer/anaconda3/lib/python3.8/site-packages/torch/nn/parallel/_functions.py:65: UserWarning: Was asked to gather along dimension 0, but all input tensors were scalars; will instead unsqueeze and return a vector.\n",
      "  warnings.warn('Was asked to gather along dimension 0, but all '\n",
      "The following columns in the evaluation set  don't have a corresponding argument in `T5ForConditionalGeneration.forward` and have been ignored: answer, question, Unnamed: 0.\n",
      "***** Running Evaluation *****\n",
      "  Num examples = 4743\n",
      "  Batch size = 12\n",
      "Saving model checkpoint to test/checkpoint-1500\n",
      "Configuration saved in test/checkpoint-1500/config.json\n",
      "Model weights saved in test/checkpoint-1500/pytorch_model.bin\n",
      "tokenizer config file saved in test/checkpoint-1500/tokenizer_config.json\n",
      "Special tokens file saved in test/checkpoint-1500/special_tokens_map.json\n",
      "Copy vocab file to test/checkpoint-1500/spiece.model\n",
      "Deleting older checkpoint [test/checkpoint-20500] due to args.save_total_limit\n",
      "/home/blab-answerer/anaconda3/lib/python3.8/site-packages/torch/nn/parallel/_functions.py:65: UserWarning: Was asked to gather along dimension 0, but all input tensors were scalars; will instead unsqueeze and return a vector.\n",
      "  warnings.warn('Was asked to gather along dimension 0, but all '\n",
      "The following columns in the evaluation set  don't have a corresponding argument in `T5ForConditionalGeneration.forward` and have been ignored: answer, question, Unnamed: 0.\n",
      "***** Running Evaluation *****\n",
      "  Num examples = 4743\n",
      "  Batch size = 12\n",
      "Saving model checkpoint to test/checkpoint-2000\n",
      "Configuration saved in test/checkpoint-2000/config.json\n",
      "Model weights saved in test/checkpoint-2000/pytorch_model.bin\n",
      "tokenizer config file saved in test/checkpoint-2000/tokenizer_config.json\n",
      "Special tokens file saved in test/checkpoint-2000/special_tokens_map.json\n",
      "Copy vocab file to test/checkpoint-2000/spiece.model\n",
      "Deleting older checkpoint [test/checkpoint-500] due to args.save_total_limit\n",
      "/home/blab-answerer/anaconda3/lib/python3.8/site-packages/torch/nn/parallel/_functions.py:65: UserWarning: Was asked to gather along dimension 0, but all input tensors were scalars; will instead unsqueeze and return a vector.\n",
      "  warnings.warn('Was asked to gather along dimension 0, but all '\n",
      "The following columns in the evaluation set  don't have a corresponding argument in `T5ForConditionalGeneration.forward` and have been ignored: answer, question, Unnamed: 0.\n",
      "***** Running Evaluation *****\n",
      "  Num examples = 4743\n",
      "  Batch size = 12\n",
      "Saving model checkpoint to test/checkpoint-2500\n",
      "Configuration saved in test/checkpoint-2500/config.json\n",
      "Model weights saved in test/checkpoint-2500/pytorch_model.bin\n",
      "tokenizer config file saved in test/checkpoint-2500/tokenizer_config.json\n",
      "Special tokens file saved in test/checkpoint-2500/special_tokens_map.json\n",
      "Copy vocab file to test/checkpoint-2500/spiece.model\n",
      "Deleting older checkpoint [test/checkpoint-1000] due to args.save_total_limit\n",
      "/home/blab-answerer/anaconda3/lib/python3.8/site-packages/torch/nn/parallel/_functions.py:65: UserWarning: Was asked to gather along dimension 0, but all input tensors were scalars; will instead unsqueeze and return a vector.\n",
      "  warnings.warn('Was asked to gather along dimension 0, but all '\n",
      "The following columns in the evaluation set  don't have a corresponding argument in `T5ForConditionalGeneration.forward` and have been ignored: answer, question, Unnamed: 0.\n",
      "***** Running Evaluation *****\n",
      "  Num examples = 4743\n",
      "  Batch size = 12\n",
      "Saving model checkpoint to test/checkpoint-3000\n",
      "Configuration saved in test/checkpoint-3000/config.json\n",
      "Model weights saved in test/checkpoint-3000/pytorch_model.bin\n",
      "tokenizer config file saved in test/checkpoint-3000/tokenizer_config.json\n",
      "Special tokens file saved in test/checkpoint-3000/special_tokens_map.json\n",
      "Copy vocab file to test/checkpoint-3000/spiece.model\n",
      "Deleting older checkpoint [test/checkpoint-1500] due to args.save_total_limit\n",
      "/home/blab-answerer/anaconda3/lib/python3.8/site-packages/torch/nn/parallel/_functions.py:65: UserWarning: Was asked to gather along dimension 0, but all input tensors were scalars; will instead unsqueeze and return a vector.\n",
      "  warnings.warn('Was asked to gather along dimension 0, but all '\n"
     ]
    }
   ],
   "source": [
    "trainer.train()"
   ]
  },
  {
   "cell_type": "code",
   "execution_count": null,
   "metadata": {},
   "outputs": [],
   "source": []
  },
  {
   "cell_type": "code",
   "execution_count": null,
   "metadata": {},
   "outputs": [],
   "source": []
  },
  {
   "cell_type": "code",
   "execution_count": null,
   "metadata": {},
   "outputs": [],
   "source": []
  },
  {
   "cell_type": "code",
   "execution_count": null,
   "metadata": {},
   "outputs": [],
   "source": []
  },
  {
   "cell_type": "code",
   "execution_count": null,
   "metadata": {},
   "outputs": [],
   "source": []
  }
 ],
 "metadata": {
  "kernelspec": {
   "display_name": "Python 3 (ipykernel)",
   "language": "python",
   "name": "python3"
  },
  "language_info": {
   "codemirror_mode": {
    "name": "ipython",
    "version": 3
   },
   "file_extension": ".py",
   "mimetype": "text/x-python",
   "name": "python",
   "nbconvert_exporter": "python",
   "pygments_lexer": "ipython3",
   "version": "3.9.7"
  }
 },
 "nbformat": 4,
 "nbformat_minor": 4
}
