{
 "cells": [
  {
   "cell_type": "code",
   "execution_count": null,
   "id": "3c326de7",
   "metadata": {},
   "outputs": [],
   "source": []
  },
  {
   "cell_type": "code",
   "execution_count": 70,
   "id": "9902a40d",
   "metadata": {},
   "outputs": [
    {
     "name": "stdout",
     "output_type": "stream",
     "text": [
      "Send Question\n",
      "Write path: /mnt/ciaamS03/mnt/Files/integration/nl2sql/\n",
      "Question: Quais são os nomes distintos das enfermeiras de plantão.\n",
      "Waiting for response...\n",
      "\n",
      "\n",
      "New response arrive:\n",
      "\n",
      "New response arrive:\n",
      "\n",
      "New response arrive:\n",
      "Question: Quais são os nomes distintos das enfermeiras de plantão.\n",
      "Query:SELECT DISTINCT singer.Name FROM singer WHERE singer.Is_male = 'terminal'\n"
     ]
    }
   ],
   "source": [
    "#Envia a pergunta e aguarda a resposta(inferência)\n",
    "\n",
    "\n",
    "import csv\n",
    "import time\n",
    "import os\n",
    "\n",
    "\n",
    "path = \"/mnt/ciaamS03/mnt/Files/integration/nl2sql/\"\n",
    "\n",
    "#question = \"Qual departamento possui o maior número de funcionários?\"\n",
    "#question = \"Encontre o departamento com mais funcionários.\"\n",
    "#question = \"Qual é o id de funcionário do chefe cujo departamento tem o menor número de funcionários?\"\n",
    "#question = \"Conte quantas marcações foram feitas no total.\"\n",
    "#question = \"Encontre os nomes das enfermeiras que estão de plantão.\"\n",
    "question = \"Quais são os nomes distintos das enfermeiras de plantão.\"\n",
    "#question = \"Encontre os nomes das enfermeiras que estão amamentando e em tratamento.\"\n",
    "#question = \"Quais são os enfermeiros responsáveis pelos pacientes em tratamento?\"\"\n",
    "#question = \"Liste os nomes de todos os medicamentos distintos, ordenados em ordem alfabética.\"\n",
    "\n",
    "print(f\"Send Question\\nWrite path: {path}\\nQuestion: {question}\")\n",
    "question_in = open(path + \"in/question.csv\", \"w\", encoding='utf8')\n",
    "question_in.write(f\"{question}\")\n",
    "question_in.close()   \n",
    "\n",
    "ready_in = open(path + \"in/ready.txt\", \"w\", encoding='utf8') \n",
    "ready_in.write(\"Done\")#qualquer conteúdo\n",
    "ready_in.close()\n",
    "\n",
    "print(\"Waiting for response...\\n\")\n",
    "\n",
    "#Espera a resposta\n",
    "response = False\n",
    "while response == False:\n",
    "    time.sleep(0.5)#em segundos\n",
    "    \n",
    "    ready_out = os.path.exists(path + \"out/ready.txt\")\n",
    "    query_out = os.path.exists(path + \"out/queries.csv\")\n",
    "            \n",
    "    if ready_out == True and query_out == True:\n",
    "        print(\"\\nNew response arrive:\")\n",
    "                       \n",
    "        with open(path + \"out/queries.csv\", newline = '', encoding='utf8') as csv_out:\n",
    "            csv_out_reader = csv.reader(csv_out, delimiter=';')\n",
    "            for csv_i in csv_out_reader:\n",
    "                print(f\"Question: {csv_i[0]}\\nQuery:{csv_i[1]}\")\n",
    "                response = True\n",
    "                os.remove(path + \"out/ready.txt\")  #Deletado indica que terminou o processamento\n",
    "                os.remove(path + \"out/queries.csv\") #Deletado indica que terminou o processamento\n",
    "                break #só o primeiro\n",
    "                      \n",
    "      \n",
    "       "
   ]
  },
  {
   "cell_type": "code",
   "execution_count": null,
   "id": "8b1eb12a",
   "metadata": {},
   "outputs": [],
   "source": []
  }
 ],
 "metadata": {
  "kernelspec": {
   "display_name": "Python 3 (ipykernel)",
   "language": "python",
   "name": "python3"
  },
  "language_info": {
   "codemirror_mode": {
    "name": "ipython",
    "version": 3
   },
   "file_extension": ".py",
   "mimetype": "text/x-python",
   "name": "python",
   "nbconvert_exporter": "python",
   "pygments_lexer": "ipython3",
   "version": "3.9.7"
  }
 },
 "nbformat": 4,
 "nbformat_minor": 5
}
