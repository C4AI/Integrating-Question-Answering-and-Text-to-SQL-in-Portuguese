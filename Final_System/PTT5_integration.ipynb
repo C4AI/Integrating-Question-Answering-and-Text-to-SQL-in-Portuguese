{
 "cells": [
  {
   "cell_type": "markdown",
   "metadata": {},
   "source": [
    "# PTT5 integration File"
   ]
  },
  {
   "cell_type": "code",
   "execution_count": 1,
   "metadata": {},
   "outputs": [],
   "source": [
    "K_Passages = 5\n",
    "\n",
    "path = '/mnt/Files/integration/ptt5/'\n",
    "\n",
    "model_checkpoint = 'PTT5_Biomedical/checkpoint-8500'\n"
   ]
  },
  {
   "cell_type": "markdown",
   "metadata": {},
   "source": [
    "## Loading trained PTT5"
   ]
  },
  {
   "cell_type": "code",
   "execution_count": 2,
   "metadata": {},
   "outputs": [],
   "source": [
    "max_input_length = 512\n",
    "max_target_length = 128\n",
    "\n"
   ]
  },
  {
   "cell_type": "code",
   "execution_count": 3,
   "metadata": {},
   "outputs": [],
   "source": [
    "from transformers import AutoModelForSeq2SeqLM, DataCollatorForSeq2Seq, Seq2SeqTrainingArguments, Seq2SeqTrainer\n",
    "\n",
    "model = AutoModelForSeq2SeqLM.from_pretrained(model_checkpoint)"
   ]
  },
  {
   "cell_type": "code",
   "execution_count": 4,
   "metadata": {},
   "outputs": [],
   "source": [
    "from transformers import AutoTokenizer, T5Tokenizer, T5TokenizerFast, TFT5Model, TFT5ForConditionalGeneration\n",
    "\n",
    "#tokenizer = AutoTokenizer.from_pretrained(model_checkpoint)\n",
    "tokenizer = T5Tokenizer.from_pretrained(model_checkpoint)"
   ]
  },
  {
   "cell_type": "code",
   "execution_count": 5,
   "metadata": {
    "scrolled": false
   },
   "outputs": [],
   "source": [
    "data_collator = DataCollatorForSeq2Seq(tokenizer, model=model)"
   ]
  },
  {
   "cell_type": "code",
   "execution_count": 6,
   "metadata": {},
   "outputs": [],
   "source": [
    "args = Seq2SeqTrainingArguments(\n",
    "    \"test-model\",\n",
    "    evaluation_strategy = \"epoch\",\n",
    "    per_device_train_batch_size=4,\n",
    "    per_device_eval_batch_size=4,\n",
    "    fp16=True,\n",
    "    gradient_accumulation_steps = 4,\n",
    "    predict_with_generate=True,\n",
    ")\n",
    "trainer = Seq2SeqTrainer(\n",
    "    model,\n",
    "    args,\n",
    "    data_collator=data_collator,\n",
    "    tokenizer=tokenizer)"
   ]
  },
  {
   "cell_type": "markdown",
   "metadata": {},
   "source": [
    "## Function that returns the answer to the question"
   ]
  },
  {
   "cell_type": "code",
   "execution_count": 7,
   "metadata": {},
   "outputs": [],
   "source": [
    "import pandas as pd\n",
    "from datasets import load_dataset, load_metric, DatasetDict, Dataset\n",
    "\n",
    "def preprocess_input(examples):\n",
    "    model_inputs = tokenizer(examples[\"question\"], max_length=max_input_length, truncation=True)\n",
    "    return model_inputs\n",
    "\n",
    "def preprocess_function(examples):\n",
    "    model_inputs = preprocess_input(examples)\n",
    "    # Setup the tokenizer for targets\n",
    "    labels = tokenizer(examples[\"answer\"], max_length=max_target_length, truncation=True)\n",
    "\n",
    "    model_inputs[\"labels\"] = labels[\"input_ids\"]\n",
    "    return model_inputs\n",
    "\n",
    "def get_answer(question):\n",
    "    df = pd.DataFrame([[question, \"isso é um teste\"]], columns = [\"question\", \"answer\"])\n",
    "\n",
    "    dataset_test = Dataset.from_pandas(df=df)\n",
    "    raw_datasets = DatasetDict({\n",
    "        'test': dataset_test})\n",
    "    \n",
    "    tokenized_datasets = raw_datasets.map(preprocess_function, batched=True)\n",
    "\n",
    "\n",
    "    a = trainer.predict(tokenized_datasets['test'], max_length=max_target_length)\n",
    "    test_outputs = []\n",
    "    test_labels = []\n",
    "    for i in range(len(a.predictions)):\n",
    "        test_outputs.append(tokenizer.decode(a.predictions[i], skip_special_tokens=True))\n",
    "        test_labels.append(raw_datasets['test'][i]['answer'])\n",
    "    return(test_outputs[0])"
   ]
  },
  {
   "cell_type": "markdown",
   "metadata": {},
   "source": [
    "## Main loop that receives a question and sends back the answer"
   ]
  },
  {
   "cell_type": "code",
   "execution_count": null,
   "metadata": {},
   "outputs": [
    {
     "name": "stdout",
     "output_type": "stream",
     "text": [
      "Listening path: /mnt/Files/integration/ptt5/\n",
      "\n",
      "New request arrive:\n",
      "question: O que é transtorno obsessivo compulsivo [SEP] context: Definição médica de transtorno obsessivo-compulsivo. Transtorno obsessivo-compulsivo: um distúrbio psiquiátrico caracterizado por pensamentos obsessivos e ações compulsivas, como limpeza, verificação, contagem ou acumulação. Transtorno obsessivo-compulsivo (OCD), um dos transtornos de ansiedade, é uma condição potencialmente incapacitante que pode persistir ao longo da vida de uma pessoa. O transtorno obsessivo-compulsivo (OCD) se enquadra em uma categoria de condições chamadas distúrbios obsessivos-compulsivos e relacionados que incluem: 1 Transtorno Obsessivo-Compulsivo (TOC). 2 Transtorno Dismórfico Corporal. 3 desordem de acumulação. A coleta é um distúrbio que pode estar presente por conta própria ou como um sintoma de outro distúrbio. Aqueles que mais frequentemente associados à acumulação são transtorno de personalidade obsessivo-compulsivo (OCPD), transtorno obsessivo-compulsivo (TOC), transtorno de déficit / hiperatividade (TDAH) e depressão. O Prozac é um medicamento licenciado para tratar uma série de condições, incluindo depressão, transtorno do pânico, transtorno obsessivo-compulsivo e bulimia. Transtorno obsessivo-compulsivo. Transtorno obsessivo-compulsivo (OCD) caracteriza-se por pensamentos repetitivos, indesejados e intrusivos (obsessões) e impulsos irracionais e excessivos para fazer determinadas ações (compulsões). Embora as pessoas com OCD possam saber que seus pensamentos e comportamentos não fazem sentido, eles geralmente são incapazes de impedi-los. \n"
     ]
    },
    {
     "data": {
      "application/vnd.jupyter.widget-view+json": {
       "model_id": "0e0815a08d624cea8fa806faff3ac596",
       "version_major": 2,
       "version_minor": 0
      },
      "text/plain": [
       "  0%|          | 0/1 [00:00<?, ?ba/s]"
      ]
     },
     "metadata": {},
     "output_type": "display_data"
    },
    {
     "name": "stderr",
     "output_type": "stream",
     "text": [
      "/home/blab-answerer/anaconda3/lib/python3.8/site-packages/torch/nn/parallel/_functions.py:65: UserWarning: Was asked to gather along dimension 0, but all input tensors were scalars; will instead unsqueeze and return a vector.\n",
      "  warnings.warn('Was asked to gather along dimension 0, but all '\n"
     ]
    },
    {
     "data": {
      "text/html": [
       "\n",
       "    <div>\n",
       "        <style>\n",
       "            /* Turns off some styling */\n",
       "            progress {\n",
       "                /* gets rid of default border in Firefox and Opera. */\n",
       "                border: none;\n",
       "                /* Needs to be in here for Safari polyfill so background images work as expected. */\n",
       "                background-size: auto;\n",
       "            }\n",
       "        </style>\n",
       "      \n",
       "      <progress value='6' max='1' style='width:300px; height:20px; vertical-align: middle;'></progress>\n",
       "      [1/1 42:14:56]\n",
       "    </div>\n",
       "    "
      ],
      "text/plain": [
       "<IPython.core.display.HTML object>"
      ]
     },
     "metadata": {},
     "output_type": "display_data"
    },
    {
     "name": "stdout",
     "output_type": "stream",
     "text": [
      "Um distúrbio psiquiátrico caracterizado por pensamentos obsessivos e ações compulsivas, como limpeza, verificação, contagem ou acumulação.\n",
      "\n",
      "New request arrive:\n",
      "question: O que é transtorno obsessivo compulsivo [SEP] context: Definição médica de transtorno obsessivo-compulsivo. Transtorno obsessivo-compulsivo: um distúrbio psiquiátrico caracterizado por pensamentos obsessivos e ações compulsivas, como limpeza, verificação, contagem ou acumulação. Transtorno obsessivo-compulsivo (OCD), um dos transtornos de ansiedade, é uma condição potencialmente incapacitante que pode persistir ao longo da vida de uma pessoa. O transtorno obsessivo-compulsivo (OCD) se enquadra em uma categoria de condições chamadas distúrbios obsessivos-compulsivos e relacionados que incluem: 1 Transtorno Obsessivo-Compulsivo (TOC). 2 Transtorno Dismórfico Corporal. 3 desordem de acumulação. A coleta é um distúrbio que pode estar presente por conta própria ou como um sintoma de outro distúrbio. Aqueles que mais frequentemente associados à acumulação são transtorno de personalidade obsessivo-compulsivo (OCPD), transtorno obsessivo-compulsivo (TOC), transtorno de déficit / hiperatividade (TDAH) e depressão. O Prozac é um medicamento licenciado para tratar uma série de condições, incluindo depressão, transtorno do pânico, transtorno obsessivo-compulsivo e bulimia. Transtorno obsessivo-compulsivo. Transtorno obsessivo-compulsivo (OCD) caracteriza-se por pensamentos repetitivos, indesejados e intrusivos (obsessões) e impulsos irracionais e excessivos para fazer determinadas ações (compulsões). Embora as pessoas com OCD possam saber que seus pensamentos e comportamentos não fazem sentido, eles geralmente são incapazes de impedi-los. \n"
     ]
    },
    {
     "data": {
      "application/vnd.jupyter.widget-view+json": {
       "model_id": "66e5eeaf9817495c858aa2207a46afa2",
       "version_major": 2,
       "version_minor": 0
      },
      "text/plain": [
       "  0%|          | 0/1 [00:00<?, ?ba/s]"
      ]
     },
     "metadata": {},
     "output_type": "display_data"
    },
    {
     "name": "stdout",
     "output_type": "stream",
     "text": [
      "Um distúrbio psiquiátrico caracterizado por pensamentos obsessivos e ações compulsivas, como limpeza, verificação, contagem ou acumulação.\n",
      "\n",
      "New request arrive:\n",
      "question: Quais são os três procedimentos mais caros [SEP] context: Em geral, os procedimentos de cirurgia de bypass gástrico são mais caros, custando no intervalo de US $ 18.000 a US $ 35.000, enquanto os procedimentos de bandas gástricos são executados de US $ 17.000 para US $ 30.000. O custo da cirurgia inclui as seguintes taxas: Custo da cirurgia bariátrica. O custo da cirurgia de perda de peso bariátrica é tipicamente cerca de US $ 25.000. Em geral, os procedimentos de cirurgia de bypass gástrico são mais caros, custando no intervalo de US $ 18.000 a US $ 35.000, enquanto os procedimentos de faixas gástricas são executados de US $ 17.000 a US $ 30.000. O custo da cirurgia inclui as seguintes taxas: 1 Taxas hospitalares. O custo da cirurgia de perda de peso bariátrica é tipicamente cerca de US $ 25.000. Mas não conseguir que o dente fixo pudesse custar ainda mais.xtrações (tendo um dente puxado) geralmente custam entre US $ 70 e US $ 150. As taxas são geralmente mais baixas para crianças e idosos. E procedimentos mais complicados como coroas dentárias e canais radiculares podem ser muito mais caros. Mas não conseguir que o dente fixo pudesse custar ainda mais. Dois a seis implantes dentários que suportam uma placa de prótese removível podem custar US $ 3.500 a US $ 30.000 ou mais, dependendo do número e do tipo de implantes (mini-implantes são menos caros), materiais de prótese (em alguns casos, uma placa de prótese existente pode ser adaptada para uso com implantes) e quaisquer outros procedimentos necessários. A penicilina pode ser administrada em doses de 250 mg de duas ou três vezes por dia durante 10 dias. Outros antibióticos que podem ser usados ​​incluem azitromicina, cefalexina e cefdinir. Enquanto esses antibióticos são mais eficazes no tratamento da garganta de Strep em comparação com a penicilina, eles também são mais caros. \n"
     ]
    },
    {
     "data": {
      "application/vnd.jupyter.widget-view+json": {
       "model_id": "c334a073a1ac4e6eb5355058d745b63a",
       "version_major": 2,
       "version_minor": 0
      },
      "text/plain": [
       "  0%|          | 0/1 [00:00<?, ?ba/s]"
      ]
     },
     "metadata": {},
     "output_type": "display_data"
    },
    {
     "name": "stdout",
     "output_type": "stream",
     "text": [
      "Cirurgia de bypass gástrico\n",
      "\n",
      "New request arrive:\n",
      "question: quanto tempo depois da gripe eu sou infecciosoquanto tempo depois da gripe eu sou infeccioso [SEP] context: Resposta: Então, se você estiver perto de alguém que tenha a gripe, e no dia seguinte você se sente muito bem, você não está fora da floresta ainda. Você pode realmente desenvolver sintomas de até quatro a cinco dias após ser exposto a alguém que tenha a gripe. Próximo: Por quanto tempo eu sou contagiante depois de ser infectado pela gripe? Toque Confiança Votos 202. Vai doer tê-lo puxado quando é abscesso, mas se sentirá melhor muito logo depois. Eu tinha um puxado enquanto estava abscesso e era muito doloroso, mas eu sou muito grato que eu fiz isso. Eu não poderia ter ficado a dor do abscesso por muito mais tempo. Cura após uma extração de dentes pode levar até uma semana. Pmsing cedo? BDL13. Eu sou devido ao meu período em cerca de 2 semanas, mas nos últimos três dias eu tenho me sentido como **** ... Parece que PMs, mas um pouco diferente. Eu sou mal-humorado, cansado, meu estômago é cólicas, meus seios estão doloridos, mas não o tempo todo. Eu estou no B.C. Pílula - Ortho TricyClen. Normalmente, meu PMS é o dia antes do meu período começar. Eu tive um mau ataque de gripe no inverno passado. Prendre QN / QCH PT Glippe para assumir uma antipatia súbita para SB / sth Grippe, Grippé e (= adj) Malade com a gripe etre être Grippe Grippé [to] tem gripe Moteur Etre être Gripe (Grippé-a), tomaram Grande Bretagne para ter atolado, Grippe Aviaire NF-avian gripe gripe gripe. Sou. nm. f mo¿ny pincher gripe nf Fonte (s): eu sou intolerante à lactose. \n"
     ]
    },
    {
     "data": {
      "application/vnd.jupyter.widget-view+json": {
       "model_id": "0d4cb0c3ee0a44dca11ca40c89e21eb0",
       "version_major": 2,
       "version_minor": 0
      },
      "text/plain": [
       "  0%|          | 0/1 [00:00<?, ?ba/s]"
      ]
     },
     "metadata": {},
     "output_type": "display_data"
    },
    {
     "name": "stdout",
     "output_type": "stream",
     "text": [
      "4 a 5 dias\n",
      "\n",
      "New request arrive:\n",
      "question: quanto tempo depois da gripe eu sou infeccioso [SEP] context: Resposta: Então, se você estiver perto de alguém que tenha a gripe, e no dia seguinte você se sente muito bem, você não está fora da floresta ainda. Você pode realmente desenvolver sintomas de até quatro a cinco dias após ser exposto a alguém que tenha a gripe. Próximo: Por quanto tempo eu sou contagiante depois de ser infectado pela gripe? Toque Confiança Votos 202. Vai doer tê-lo puxado quando é abscesso, mas se sentirá melhor muito logo depois. Eu tinha um puxado enquanto estava abscesso e era muito doloroso, mas eu sou muito grato que eu fiz isso. Eu não poderia ter ficado a dor do abscesso por muito mais tempo. Cura após uma extração de dentes pode levar até uma semana. Quanto tempo dura uma pessoa com a gripe contagiosa? Você pode passar a gripe para os outros de 1 dia antes de ter sintomas até 5-7 dias depois de ficar doente. Algumas pessoas podem infectar os outros ainda mais. Existe tratamento? A gripe pode ser tratada com drogas antivirais se começou logo depois de ficar doente. Eles ajudarão a reduzir o quão doente você recebe e quanto tempo você está doente. Pmsing cedo? BDL13. Eu sou devido ao meu período em cerca de 2 semanas, mas nos últimos três dias eu tenho me sentido como **** ... Parece que PMs, mas um pouco diferente. Eu sou mal-humorado, cansado, meu estômago é cólicas, meus seios estão doloridos, mas não o tempo todo. Eu estou no B.C. Pílula - Ortho TricyClen. Normalmente, meu PMS é o dia antes do meu período começar. Eu tive um mau ataque de gripe no inverno passado. Prendre QN / QCH PT Glippe para assumir uma antipatia súbita para SB / sth Grippe, Grippé e (= adj) Malade com a gripe etre être Grippe Grippé [to] tem gripe Moteur Etre être Gripe (Grippé-a), tomaram Grande Bretagne para ter atolado, Grippe Aviaire NF-avian gripe gripe gripe. Sou. nm. f mo¿ny pincher gripe nf \n"
     ]
    },
    {
     "data": {
      "application/vnd.jupyter.widget-view+json": {
       "model_id": "ce2a166cd1444d29ac24ef5fe0ea5bb9",
       "version_major": 2,
       "version_minor": 0
      },
      "text/plain": [
       "  0%|          | 0/1 [00:00<?, ?ba/s]"
      ]
     },
     "metadata": {},
     "output_type": "display_data"
    },
    {
     "name": "stdout",
     "output_type": "stream",
     "text": [
      "4 a 5 dias\n",
      "\n",
      "New request arrive:\n",
      "question: O que causa dor nas costas [SEP] context: Sintomas de dor nas costas. Sintomas que geralmente ocorrem com a dor nas costas incluem rigidez traseira, espasmos musculares e ternura sobre os músculos das costas. Sintomas que indicam uma causa séria para a dor nas costas incluem dor nas costas intensa que atira a perna, dormência, fraqueza da perna, dormência da virilha e dificuldade em urinar. Em casos de dor nas costas crônicas, pode pensar: \"As úlceras causam dor nas costas?\" Uma resposta simples a essa pergunta ansiosa é \"sim\", uma úlcera péptica é uma provável causa de dor nas costas. Dor nas costas da moeda aguda. A dor nas costas da moeda aguda é geralmente o resultado de uma lesão muscular súbita ou superexerção. Em praticamente todos os casos, a dor é precedida por algum evento que realmente causa trauma ou é percebido para causar ferimentos. A dor nas costas pode vir de repente e durar menos de seis semanas (aguda), que pode ser causada por uma queda ou levantamento pesado. Dor nas costas que dura mais de três meses (crônica) é menos comum do que a dor aguda. A dor nas costas geralmente se desenvolve sem uma causa específica de que seu médico possa se identificar com um estudo de teste ou imagem. Condições comumente ligadas à dor nas costas incluem: tensão muscular ou ligamento. O levantamento pesado repetido ou um movimento repentino inábil pode coexar os músculos e ligamentos espinhais. A sacroiliite refere-se à inflamação de uma ou ambas as juntas sacroilíacas e é uma causa de dor nas costas unilateral. Com a sacroiliite, o indivíduo pode sentir dor nas costas baixas, nádegas ou coxa, dependendo da quantidade de inflamação. \n"
     ]
    },
    {
     "data": {
      "application/vnd.jupyter.widget-view+json": {
       "model_id": "9f2b19a89a8141c6b1a397cbae559ac1",
       "version_major": 2,
       "version_minor": 0
      },
      "text/plain": [
       "  0%|          | 0/1 [00:00<?, ?ba/s]"
      ]
     },
     "metadata": {},
     "output_type": "display_data"
    },
    {
     "name": "stdout",
     "output_type": "stream",
     "text": [
      "A dor nas costas é causada por uma queda ou levantamento pesado.\n"
     ]
    }
   ],
   "source": [
    "#aguarda pergunta e responde a resposta (inferência)\n",
    "\n",
    "import csv\n",
    "import time\n",
    "import os\n",
    "import ast\n",
    "\n",
    "\n",
    "print(f\"Listening path: {path}\")\n",
    "\n",
    "while 1:#loop infinito tem que parar manualmente\n",
    "    time.sleep(0.5)#em segundos, delay para não consumir todo o processador da máquina.\n",
    "    \n",
    "    ready = os.path.exists(path + \"in/ready.txt\")\n",
    "    question = os.path.exists(path + \"in/question.csv\")\n",
    "    #print(f\"Ready = {ready}\\nQuestion = {question}\")\n",
    "        \n",
    "    if ready == True and question == True:\n",
    "        print(\"\\nNew request arrive:\")\n",
    "                \n",
    "        csv_out = open(path + \"out/answer.csv\", \"w\", encoding='utf8')\n",
    "        ready_out = open(path + \"out/ready.txt\", \"w\", encoding='utf8')\n",
    "        ready_out.write(\"Done\")#qualquer conteúdo       \n",
    "\n",
    "        with open(path + \"in/question.csv\", newline = '', encoding='utf8') as csv_in:\n",
    "            csv_in_reader = csv.reader(csv_in, delimiter=';')\n",
    "            for csv_i in csv_in_reader:\n",
    "                print(csv_i[0])\n",
    "                code = get_answer(csv_i[0])               \n",
    "                print(code)\n",
    "                csv_out.write(f\"{csv_i[0]};{code}\\n\")\n",
    "                break #só o primeiro               \n",
    "        csv_out.close()   \n",
    "        ready_out.close()\n",
    "        os.remove(path + \"in/ready.txt\") #Deletado indica que terminou o processamento\n",
    "        os.remove(path + \"in/question.csv\")#Deletado indica que terminou o processamento"
   ]
  }
 ],
 "metadata": {
  "kernelspec": {
   "display_name": "Python 3 (ipykernel)",
   "language": "python",
   "name": "python3"
  },
  "language_info": {
   "codemirror_mode": {
    "name": "ipython",
    "version": 3
   },
   "file_extension": ".py",
   "mimetype": "text/x-python",
   "name": "python",
   "nbconvert_exporter": "python",
   "pygments_lexer": "ipython3",
   "version": "3.9.7"
  }
 },
 "nbformat": 4,
 "nbformat_minor": 4
}
