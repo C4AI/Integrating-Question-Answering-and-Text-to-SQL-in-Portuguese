{
 "cells": [
  {
   "cell_type": "markdown",
   "id": "d0922c56",
   "metadata": {},
   "source": [
    "# BM25 Integration File"
   ]
  },
  {
   "cell_type": "code",
   "execution_count": 1,
   "id": "65070fcc",
   "metadata": {},
   "outputs": [],
   "source": [
    "K_Passages = 5\n",
    "\n",
    "PATH_INTEGRATION_CLASSIFIER = '/mnt/ciaamS03/mnt/Files/integration/bm25/'\n",
    "\n",
    "INDEX_KNOWLEDGE_BASE = [\"biomedical_100_pt_true\"]\n"
   ]
  },
  {
   "cell_type": "markdown",
   "id": "66a56165",
   "metadata": {},
   "source": [
    "## Starting Elastic Search server"
   ]
  },
  {
   "cell_type": "code",
   "execution_count": 2,
   "id": "f4aafea7",
   "metadata": {},
   "outputs": [],
   "source": [
    "#! wget https://artifacts.elastic.co/downloads/elasticsearch/elasticsearch-7.9.2-linux-x86_64.tar.gz -q\n",
    "#! tar -xzf elasticsearch-7.9.2-linux-x86_64.tar.gz\n",
    "#! chown -R daemon:daemon elasticsearch-7.9.2\n",
    "##! chmod 755 -R elasticsearch-7.9.2/bin/elasticsearch\n",
    "import os\n",
    "from subprocess import Popen, PIPE, STDOUT\n",
    "es_server = Popen(['elastic_docs/elasticsearch-7.9.2/bin/elasticsearch'],\n",
    "                   stdout=PIPE, stderr=STDOUT,\n",
    "                   preexec_fn=lambda: os.setuid(1)  # as daemon\n",
    "                  )\n",
    "# wait until ES has started\n",
    "! sleep 30"
   ]
  },
  {
   "cell_type": "markdown",
   "id": "6a03975c",
   "metadata": {},
   "source": [
    "## Loading document store "
   ]
  },
  {
   "cell_type": "code",
   "execution_count": 3,
   "id": "a21c1f7f",
   "metadata": {},
   "outputs": [
    {
     "name": "stderr",
     "output_type": "stream",
     "text": [
      "10/22/2021 21:58:38 - INFO - farm.modeling.prediction_head -   Better speed can be achieved with apex installed from https://www.github.com/nvidia/apex .\n",
      "10/22/2021 21:58:39 - INFO - faiss.loader -   Loading faiss with AVX2 support.\n",
      "10/22/2021 21:58:39 - INFO - faiss.loader -   Loading faiss.\n",
      "10/22/2021 21:58:39 - INFO - elasticsearch -   HEAD http://localhost:9200/ [status:200 request:0.046s]\n",
      "10/22/2021 21:58:39 - INFO - elasticsearch -   HEAD http://localhost:9200/document [status:200 request:0.008s]\n",
      "10/22/2021 21:58:39 - INFO - elasticsearch -   GET http://localhost:9200/document [status:200 request:0.004s]\n",
      "10/22/2021 21:58:39 - INFO - elasticsearch -   PUT http://localhost:9200/document/_mapping [status:200 request:0.018s]\n",
      "10/22/2021 21:58:39 - INFO - elasticsearch -   HEAD http://localhost:9200/label [status:200 request:0.002s]\n"
     ]
    }
   ],
   "source": [
    "from haystack.document_store.elasticsearch import ElasticsearchDocumentStore\n",
    "document_store = ElasticsearchDocumentStore(host=\"localhost\", username=\"\", password=\"\")"
   ]
  },
  {
   "cell_type": "markdown",
   "id": "7a858e34",
   "metadata": {},
   "source": [
    "## Creating Retriever"
   ]
  },
  {
   "cell_type": "code",
   "execution_count": 4,
   "id": "ef58dd24",
   "metadata": {},
   "outputs": [],
   "source": [
    "from haystack.retriever.sparse import ElasticsearchRetriever\n",
    "retriever = ElasticsearchRetriever(document_store=document_store)"
   ]
  },
  {
   "cell_type": "code",
   "execution_count": 5,
   "id": "9abb7f8c",
   "metadata": {},
   "outputs": [],
   "source": [
    "from haystack.pipeline import Pipeline\n",
    "\n",
    "extractive_pipeline = Pipeline()\n",
    "extractive_pipeline.add_node(component=retriever, name=\"ESRetriever1\", inputs=[\"Query\"])"
   ]
  },
  {
   "cell_type": "markdown",
   "id": "e15e8de8",
   "metadata": {},
   "source": [
    "## Function to get main documents"
   ]
  },
  {
   "cell_type": "code",
   "execution_count": 6,
   "id": "60aabf2f",
   "metadata": {},
   "outputs": [],
   "source": [
    "def get_passages(question):\n",
    "    \n",
    "    res = extractive_pipeline.run(query=question, top_k_retriever=K_Passages, index = INDEX_KNOWLEDGE_BASE)\n",
    "    \n",
    "    documents = \"\"\n",
    "    for i in range (K_Passages):\n",
    "        if i < len(res[\"documents\"]):\n",
    "            document_dict = ast.literal_eval(str(res[\"documents\"][i]))\n",
    "            documents += document_dict[\"text\"] + \" \"\n",
    "    question_with_passages = \"question: \" + question +\" [SEP] context: \"+documents\n",
    "     \n",
    "    return(question_with_passages)"
   ]
  },
  {
   "cell_type": "markdown",
   "id": "037a8fc8",
   "metadata": {},
   "source": [
    "## Main loop that receives a question and sends the passages back"
   ]
  },
  {
   "cell_type": "code",
   "execution_count": null,
   "id": "e0b396dd",
   "metadata": {
    "scrolled": true
   },
   "outputs": [
    {
     "name": "stdout",
     "output_type": "stream",
     "text": [
      "Listening path: /mnt/ciaamS03/mnt/Files/integration/bm25/\n"
     ]
    },
    {
     "name": "stderr",
     "output_type": "stream",
     "text": [
      "10/22/2021 23:19:07 - INFO - elasticsearch -   POST http://localhost:9200/biomedical_100_pt_true/_search [status:200 request:0.100s]\n"
     ]
    },
    {
     "name": "stdout",
     "output_type": "stream",
     "text": [
      "\n",
      "New request arrive:\n",
      "Quais são os três procedimentos mais caros\n",
      "question: Quais são os três procedimentos mais caros [SEP] context: Em geral, os procedimentos de cirurgia de bypass gástrico são mais caros, custando no intervalo de US $ 18.000 a US $ 35.000, enquanto os procedimentos de bandas gástricos são executados de US $ 17.000 para US $ 30.000. O custo da cirurgia inclui as seguintes taxas: Custo da cirurgia bariátrica. O custo da cirurgia de perda de peso bariátrica é tipicamente cerca de US $ 25.000. Em geral, os procedimentos de cirurgia de bypass gástrico são mais caros, custando no intervalo de US $ 18.000 a US $ 35.000, enquanto os procedimentos de faixas gástricas são executados de US $ 17.000 a US $ 30.000. O custo da cirurgia inclui as seguintes taxas: 1 Taxas hospitalares. O custo da cirurgia de perda de peso bariátrica é tipicamente cerca de US $ 25.000. Mas não conseguir que o dente fixo pudesse custar ainda mais.xtrações (tendo um dente puxado) geralmente custam entre US $ 70 e US $ 150. As taxas são geralmente mais baixas para crianças e idosos. E procedimentos mais complicados como coroas dentárias e canais radiculares podem ser muito mais caros. Mas não conseguir que o dente fixo pudesse custar ainda mais. Dois a seis implantes dentários que suportam uma placa de prótese removível podem custar US $ 3.500 a US $ 30.000 ou mais, dependendo do número e do tipo de implantes (mini-implantes são menos caros), materiais de prótese (em alguns casos, uma placa de prótese existente pode ser adaptada para uso com implantes) e quaisquer outros procedimentos necessários. A penicilina pode ser administrada em doses de 250 mg de duas ou três vezes por dia durante 10 dias. Outros antibióticos que podem ser usados ​​incluem azitromicina, cefalexina e cefdinir. Enquanto esses antibióticos são mais eficazes no tratamento da garganta de Strep em comparação com a penicilina, eles também são mais caros. \n"
     ]
    },
    {
     "name": "stderr",
     "output_type": "stream",
     "text": [
      "10/23/2021 11:14:42 - INFO - elasticsearch -   POST http://localhost:9200/biomedical_100_pt_true/_search [status:200 request:0.037s]\n"
     ]
    },
    {
     "name": "stdout",
     "output_type": "stream",
     "text": [
      "\n",
      "New request arrive:\n",
      "quanto tempo depois da gripe eu sou infecciosoquanto tempo depois da gripe eu sou infeccioso\n",
      "question: quanto tempo depois da gripe eu sou infecciosoquanto tempo depois da gripe eu sou infeccioso [SEP] context: Resposta: Então, se você estiver perto de alguém que tenha a gripe, e no dia seguinte você se sente muito bem, você não está fora da floresta ainda. Você pode realmente desenvolver sintomas de até quatro a cinco dias após ser exposto a alguém que tenha a gripe. Próximo: Por quanto tempo eu sou contagiante depois de ser infectado pela gripe? Toque Confiança Votos 202. Vai doer tê-lo puxado quando é abscesso, mas se sentirá melhor muito logo depois. Eu tinha um puxado enquanto estava abscesso e era muito doloroso, mas eu sou muito grato que eu fiz isso. Eu não poderia ter ficado a dor do abscesso por muito mais tempo. Cura após uma extração de dentes pode levar até uma semana. Pmsing cedo? BDL13. Eu sou devido ao meu período em cerca de 2 semanas, mas nos últimos três dias eu tenho me sentido como **** ... Parece que PMs, mas um pouco diferente. Eu sou mal-humorado, cansado, meu estômago é cólicas, meus seios estão doloridos, mas não o tempo todo. Eu estou no B.C. Pílula - Ortho TricyClen. Normalmente, meu PMS é o dia antes do meu período começar. Eu tive um mau ataque de gripe no inverno passado. Prendre QN / QCH PT Glippe para assumir uma antipatia súbita para SB / sth Grippe, Grippé e (= adj) Malade com a gripe etre être Grippe Grippé [to] tem gripe Moteur Etre être Gripe (Grippé-a), tomaram Grande Bretagne para ter atolado, Grippe Aviaire NF-avian gripe gripe gripe. Sou. nm. f mo¿ny pincher gripe nf Fonte (s): eu sou intolerante à lactose. \n"
     ]
    },
    {
     "name": "stderr",
     "output_type": "stream",
     "text": [
      "10/23/2021 11:36:14 - INFO - elasticsearch -   POST http://localhost:9200/biomedical_100_pt_true/_search [status:200 request:0.015s]\n"
     ]
    },
    {
     "name": "stdout",
     "output_type": "stream",
     "text": [
      "\n",
      "New request arrive:\n",
      "quanto tempo depois da gripe eu sou infeccioso\n",
      "question: quanto tempo depois da gripe eu sou infeccioso [SEP] context: Resposta: Então, se você estiver perto de alguém que tenha a gripe, e no dia seguinte você se sente muito bem, você não está fora da floresta ainda. Você pode realmente desenvolver sintomas de até quatro a cinco dias após ser exposto a alguém que tenha a gripe. Próximo: Por quanto tempo eu sou contagiante depois de ser infectado pela gripe? Toque Confiança Votos 202. Vai doer tê-lo puxado quando é abscesso, mas se sentirá melhor muito logo depois. Eu tinha um puxado enquanto estava abscesso e era muito doloroso, mas eu sou muito grato que eu fiz isso. Eu não poderia ter ficado a dor do abscesso por muito mais tempo. Cura após uma extração de dentes pode levar até uma semana. Quanto tempo dura uma pessoa com a gripe contagiosa? Você pode passar a gripe para os outros de 1 dia antes de ter sintomas até 5-7 dias depois de ficar doente. Algumas pessoas podem infectar os outros ainda mais. Existe tratamento? A gripe pode ser tratada com drogas antivirais se começou logo depois de ficar doente. Eles ajudarão a reduzir o quão doente você recebe e quanto tempo você está doente. Pmsing cedo? BDL13. Eu sou devido ao meu período em cerca de 2 semanas, mas nos últimos três dias eu tenho me sentido como **** ... Parece que PMs, mas um pouco diferente. Eu sou mal-humorado, cansado, meu estômago é cólicas, meus seios estão doloridos, mas não o tempo todo. Eu estou no B.C. Pílula - Ortho TricyClen. Normalmente, meu PMS é o dia antes do meu período começar. Eu tive um mau ataque de gripe no inverno passado. Prendre QN / QCH PT Glippe para assumir uma antipatia súbita para SB / sth Grippe, Grippé e (= adj) Malade com a gripe etre être Grippe Grippé [to] tem gripe Moteur Etre être Gripe (Grippé-a), tomaram Grande Bretagne para ter atolado, Grippe Aviaire NF-avian gripe gripe gripe. Sou. nm. f mo¿ny pincher gripe nf \n"
     ]
    },
    {
     "name": "stderr",
     "output_type": "stream",
     "text": [
      "10/23/2021 11:40:52 - INFO - elasticsearch -   POST http://localhost:9200/biomedical_100_pt_true/_search [status:200 request:0.031s]\n"
     ]
    },
    {
     "name": "stdout",
     "output_type": "stream",
     "text": [
      "\n",
      "New request arrive:\n",
      "O que causa dor nas costas\n",
      "question: O que causa dor nas costas [SEP] context: Sintomas de dor nas costas. Sintomas que geralmente ocorrem com a dor nas costas incluem rigidez traseira, espasmos musculares e ternura sobre os músculos das costas. Sintomas que indicam uma causa séria para a dor nas costas incluem dor nas costas intensa que atira a perna, dormência, fraqueza da perna, dormência da virilha e dificuldade em urinar. Em casos de dor nas costas crônicas, pode pensar: \"As úlceras causam dor nas costas?\" Uma resposta simples a essa pergunta ansiosa é \"sim\", uma úlcera péptica é uma provável causa de dor nas costas. Dor nas costas da moeda aguda. A dor nas costas da moeda aguda é geralmente o resultado de uma lesão muscular súbita ou superexerção. Em praticamente todos os casos, a dor é precedida por algum evento que realmente causa trauma ou é percebido para causar ferimentos. A dor nas costas pode vir de repente e durar menos de seis semanas (aguda), que pode ser causada por uma queda ou levantamento pesado. Dor nas costas que dura mais de três meses (crônica) é menos comum do que a dor aguda. A dor nas costas geralmente se desenvolve sem uma causa específica de que seu médico possa se identificar com um estudo de teste ou imagem. Condições comumente ligadas à dor nas costas incluem: tensão muscular ou ligamento. O levantamento pesado repetido ou um movimento repentino inábil pode coexar os músculos e ligamentos espinhais. A sacroiliite refere-se à inflamação de uma ou ambas as juntas sacroilíacas e é uma causa de dor nas costas unilateral. Com a sacroiliite, o indivíduo pode sentir dor nas costas baixas, nádegas ou coxa, dependendo da quantidade de inflamação. \n"
     ]
    }
   ],
   "source": [
    "#aguarda pergunta e responde a resposta (inferência)\n",
    "\n",
    "import csv\n",
    "import time\n",
    "import os\n",
    "import ast\n",
    "\n",
    "\n",
    "path = \"/mnt/ciaamS03/mnt/Files/integration/bm25/\"\n",
    "print(f\"Listening path: {path}\")\n",
    "\n",
    "while 1:#loop infinito tem que parar manualmente\n",
    "    time.sleep(0.5)#em segundos, delay para não consumir todo o processador da máquina.\n",
    "    \n",
    "    ready = os.path.exists(path + \"in/ready.txt\")\n",
    "    question = os.path.exists(path + \"in/question.csv\")\n",
    "    #print(f\"Ready = {ready}\\nQuestion = {question}\")\n",
    "        \n",
    "    if ready == True and question == True:\n",
    "        print(\"\\nNew request arrive:\")\n",
    "                \n",
    "        csv_out = open(path + \"out/queries.csv\", \"w\", encoding='utf8')\n",
    "        ready_out = open(path + \"out/ready.txt\", \"w\", encoding='utf8')\n",
    "        ready_out.write(\"Done\")#qualquer conteúdo       \n",
    "       \n",
    "        \n",
    "        with open(path + \"in/question.csv\", newline = '', encoding='utf8') as csv_in:\n",
    "            csv_in_reader = csv.reader(csv_in, delimiter=';')\n",
    "            for csv_i in csv_in_reader:\n",
    "                print(csv_i[0])\n",
    "                code = get_passages(csv_i[0])               \n",
    "                print(code)\n",
    "                csv_out.write(f\"{csv_i[0]};{code}\\n\")\n",
    "                break #só o primeiro               \n",
    "        csv_out.close()   \n",
    "        ready_out.close()\n",
    "        os.remove(path + \"in/ready.txt\") #Deletado indica que terminou o processamento\n",
    "        os.remove(path + \"in/question.csv\")#Deletado indica que terminou o processamento"
   ]
  },
  {
   "cell_type": "code",
   "execution_count": null,
   "id": "220e82b7",
   "metadata": {},
   "outputs": [],
   "source": []
  },
  {
   "cell_type": "code",
   "execution_count": null,
   "id": "c75239fa",
   "metadata": {},
   "outputs": [],
   "source": []
  },
  {
   "cell_type": "code",
   "execution_count": null,
   "id": "0ffd1560",
   "metadata": {},
   "outputs": [],
   "source": []
  },
  {
   "cell_type": "code",
   "execution_count": null,
   "id": "54ba41a4",
   "metadata": {},
   "outputs": [],
   "source": []
  }
 ],
 "metadata": {
  "kernelspec": {
   "display_name": "Python 3 (ipykernel)",
   "language": "python",
   "name": "python3"
  },
  "language_info": {
   "codemirror_mode": {
    "name": "ipython",
    "version": 3
   },
   "file_extension": ".py",
   "mimetype": "text/x-python",
   "name": "python",
   "nbconvert_exporter": "python",
   "pygments_lexer": "ipython3",
   "version": "3.9.7"
  }
 },
 "nbformat": 4,
 "nbformat_minor": 5
}
