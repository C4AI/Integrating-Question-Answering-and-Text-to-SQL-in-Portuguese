{
 "cells": [
  {
   "cell_type": "code",
   "execution_count": 1,
   "id": "d886befe",
   "metadata": {},
   "outputs": [
    {
     "name": "stderr",
     "output_type": "stream",
     "text": [
      "2021-10-22 19:09:08.821411: I tensorflow/stream_executor/platform/default/dso_loader.cc:53] Successfully opened dynamic library libcudart.so.11.0\n"
     ]
    }
   ],
   "source": [
    "from simpletransformers.classification import ClassificationModel, ClassificationArgs\n",
    "from sklearn.model_selection import StratifiedKFold\n",
    "from sklearn.metrics import confusion_matrix, accuracy_score, f1_score, matthews_corrcoef\n",
    "import pandas as pd\n",
    "import time as t\n",
    "import statistics\n"
   ]
  },
  {
   "cell_type": "code",
   "execution_count": 2,
   "id": "0213c75e",
   "metadata": {},
   "outputs": [
    {
     "name": "stderr",
     "output_type": "stream",
     "text": [
      "/home/blab-answerer/anaconda3/lib/python3.8/site-packages/pandas/util/_decorators.py:311: ParserWarning: Falling back to the 'python' engine because the 'c' engine does not support regex separators (separators > 1 char and different from '\\s+' are interpreted as regex); you can avoid this warning by specifying engine='python'.\n",
      "  return func(*args, **kwargs)\n"
     ]
    }
   ],
   "source": [
    "# Loading the MSMARCO Dataset\n",
    "MSMARCO = pd.read_csv(\"MSMARCO_biomedical_PT/test.csv\")[[\"question_pt\"]]\n",
    "\n",
    "# Cleaning MSMARCO Dataset\n",
    "MSMARCO['question_pt'] = MSMARCO['question_pt'].apply(lambda x: x.rstrip('\\n'))\n",
    "MSMARCO['question_pt'] = MSMARCO['question_pt'].apply(lambda x: x.rstrip('\\t'))\n",
    "MSMARCO['question_pt'] = MSMARCO['question_pt'].apply(lambda x: x.rstrip('?'))\n",
    "MSMARCO['question_pt'] = MSMARCO['question_pt'].apply(lambda x: x.rstrip('.'))\n",
    "\n",
    "#MSMARCO.tail(20)\n",
    "\n",
    "\n",
    "\n",
    "# Loading the MIMIC Dataset\n",
    "MIMIC = pd.read_csv(\"MIMICSQL_PT/test.csv\")[[\"question_pt\"]]\n",
    "\n",
    "\n",
    "# Cleaning MIMIC Dataset\n",
    "MIMIC['question_pt'] = MIMIC['question_pt'].apply(lambda x: x.rstrip('\\n'))\n",
    "MIMIC['question_pt'] = MIMIC['question_pt'].apply(lambda x: x.rstrip('\\t'))\n",
    "MIMIC['question_pt'] = MIMIC['question_pt'].apply(lambda x: x.rstrip('?'))\n",
    "MIMIC['question_pt'] = MIMIC['question_pt'].apply(lambda x: x.rstrip('.'))\n",
    "\n",
    "\n",
    "\n",
    "# Loading the SPIDER Dataset\n",
    "SPIDER = pd.read_csv(\"SPIDER/hospital_1.txt\", sep=\";;\", header=None)\n",
    "SPIDER.columns = [\"question_pt\"]\n",
    "\n",
    "# Cleaning SPIDER Dataset\n",
    "SPIDER['question_pt'] = SPIDER['question_pt'].apply(lambda x: x.rstrip('\\n'))\n",
    "SPIDER['question_pt'] = SPIDER['question_pt'].apply(lambda x: x.rstrip('\\t'))\n",
    "SPIDER['question_pt'] = SPIDER['question_pt'].apply(lambda x: x.rstrip('?'))\n",
    "SPIDER['question_pt'] = SPIDER['question_pt'].apply(lambda x: x.rstrip('.'))"
   ]
  },
  {
   "cell_type": "code",
   "execution_count": 3,
   "id": "bec0de95",
   "metadata": {},
   "outputs": [],
   "source": [
    "#Join datasets\n",
    "\n",
    "\n",
    "MSMARCO[\"type\"] = 1\n",
    "MIMIC[\"type\"] = 0\n",
    "SPIDER[\"type\"] = 0\n",
    "\n",
    "\n",
    "tp0 = pd.concat([MIMIC, SPIDER], ignore_index=True)\n",
    "\n",
    "df = pd.concat([MSMARCO, tp0], ignore_index = True)"
   ]
  },
  {
   "cell_type": "markdown",
   "id": "b0dd1a02",
   "metadata": {},
   "source": [
    "All test Dataset"
   ]
  },
  {
   "cell_type": "code",
   "execution_count": 4,
   "id": "960c85dc",
   "metadata": {},
   "outputs": [
    {
     "name": "stderr",
     "output_type": "stream",
     "text": [
      "/home/blab-answerer/anaconda3/lib/python3.8/site-packages/simpletransformers/classification/classification_model.py:1401: UserWarning: Dataframe headers not specified. Falling back to using column 0 as text and column 1 as labels.\n",
      "  warnings.warn(\n"
     ]
    },
    {
     "data": {
      "application/vnd.jupyter.widget-view+json": {
       "model_id": "7a32f0ef672748caa999268c41e5df85",
       "version_major": 2,
       "version_minor": 0
      },
      "text/plain": [
       "  0%|          | 0/5843 [00:00<?, ?it/s]"
      ]
     },
     "metadata": {},
     "output_type": "display_data"
    },
    {
     "data": {
      "application/vnd.jupyter.widget-view+json": {
       "model_id": "94a4c22db5dc496ba58c8f5d261f731e",
       "version_major": 2,
       "version_minor": 0
      },
      "text/plain": [
       "Running Evaluation:   0%|          | 0/731 [00:00<?, ?it/s]"
      ]
     },
     "metadata": {},
     "output_type": "display_data"
    },
    {
     "name": "stderr",
     "output_type": "stream",
     "text": [
      "/home/blab-answerer/anaconda3/lib/python3.8/site-packages/torch/nn/parallel/_functions.py:65: UserWarning: Was asked to gather along dimension 0, but all input tensors were scalars; will instead unsqueeze and return a vector.\n",
      "  warnings.warn('Was asked to gather along dimension 0, but all '\n"
     ]
    },
    {
     "data": {
      "application/vnd.jupyter.widget-view+json": {
       "model_id": "e630f90b9e6947938c00db09dcc620e5",
       "version_major": 2,
       "version_minor": 0
      },
      "text/plain": [
       "  0%|          | 0/5843 [00:00<?, ?it/s]"
      ]
     },
     "metadata": {},
     "output_type": "display_data"
    },
    {
     "data": {
      "application/vnd.jupyter.widget-view+json": {
       "model_id": "0cee3bf038e5476ebbb636620e90edc7",
       "version_major": 2,
       "version_minor": 0
      },
      "text/plain": [
       "  0%|          | 0/731 [00:00<?, ?it/s]"
      ]
     },
     "metadata": {},
     "output_type": "display_data"
    },
    {
     "name": "stderr",
     "output_type": "stream",
     "text": [
      "/home/blab-answerer/anaconda3/lib/python3.8/site-packages/torch/nn/parallel/_functions.py:65: UserWarning: Was asked to gather along dimension 0, but all input tensors were scalars; will instead unsqueeze and return a vector.\n",
      "  warnings.warn('Was asked to gather along dimension 0, but all '\n"
     ]
    },
    {
     "name": "stdout",
     "output_type": "stream",
     "text": [
      "accuracy_score: 0.9974328256032859\n"
     ]
    }
   ],
   "source": [
    "# Defining the model\n",
    "model = ClassificationModel('bert', 'Bertimbau_Classificador/checkpoint-2845-epoch-5', num_labels=2)\n",
    "\n",
    "\n",
    "# Validate the model\n",
    "result, model_outputs, wrong_predictions = model.eval_model(df)\n",
    "preds, _ = model.predict(list(df['question_pt']))\n",
    "\n",
    "acc = accuracy_score(df['type'].values, preds)\n",
    "print(\"accuracy_score: \" + str(acc))\n",
    "mcc = matthews_corrcoef(df['type'].values, preds)\n",
    "f1_weighted = f1_score(df['type'].values, preds, average='weighted')\n",
    "f1_micro = f1_score(df['type'].values, preds, average='micro')\n",
    "f1_macro = f1_score(df['type'].values, preds, average='macro')"
   ]
  },
  {
   "cell_type": "markdown",
   "id": "66762ba8",
   "metadata": {},
   "source": [
    "MSMARCO"
   ]
  },
  {
   "cell_type": "code",
   "execution_count": 5,
   "id": "9da0311e",
   "metadata": {},
   "outputs": [
    {
     "name": "stderr",
     "output_type": "stream",
     "text": [
      "/home/blab-answerer/anaconda3/lib/python3.8/site-packages/simpletransformers/classification/classification_model.py:1401: UserWarning: Dataframe headers not specified. Falling back to using column 0 as text and column 1 as labels.\n",
      "  warnings.warn(\n"
     ]
    },
    {
     "data": {
      "application/vnd.jupyter.widget-view+json": {
       "model_id": "f9af1f1d7e5c4b8f8b1a7d75955e3a00",
       "version_major": 2,
       "version_minor": 0
      },
      "text/plain": [
       "  0%|          | 0/4743 [00:00<?, ?it/s]"
      ]
     },
     "metadata": {},
     "output_type": "display_data"
    },
    {
     "data": {
      "application/vnd.jupyter.widget-view+json": {
       "model_id": "9f62921d366b47d4a8214af720577107",
       "version_major": 2,
       "version_minor": 0
      },
      "text/plain": [
       "Running Evaluation:   0%|          | 0/593 [00:00<?, ?it/s]"
      ]
     },
     "metadata": {},
     "output_type": "display_data"
    },
    {
     "name": "stderr",
     "output_type": "stream",
     "text": [
      "/home/blab-answerer/anaconda3/lib/python3.8/site-packages/torch/nn/parallel/_functions.py:65: UserWarning: Was asked to gather along dimension 0, but all input tensors were scalars; will instead unsqueeze and return a vector.\n",
      "  warnings.warn('Was asked to gather along dimension 0, but all '\n",
      "/home/blab-answerer/anaconda3/lib/python3.8/site-packages/sklearn/metrics/_classification.py:873: RuntimeWarning: invalid value encountered in double_scalars\n",
      "  mcc = cov_ytyp / np.sqrt(cov_ytyt * cov_ypyp)\n",
      "/home/blab-answerer/anaconda3/lib/python3.8/site-packages/sklearn/metrics/_ranking.py:941: UndefinedMetricWarning: No negative samples in y_true, false positive value should be meaningless\n",
      "  warnings.warn(\"No negative samples in y_true, \"\n"
     ]
    },
    {
     "data": {
      "application/vnd.jupyter.widget-view+json": {
       "model_id": "59d507465a934e119ba95ef083187bd4",
       "version_major": 2,
       "version_minor": 0
      },
      "text/plain": [
       "  0%|          | 0/4743 [00:00<?, ?it/s]"
      ]
     },
     "metadata": {},
     "output_type": "display_data"
    },
    {
     "data": {
      "application/vnd.jupyter.widget-view+json": {
       "model_id": "3a0a1f5db111403380ccd442d019c1bc",
       "version_major": 2,
       "version_minor": 0
      },
      "text/plain": [
       "  0%|          | 0/593 [00:00<?, ?it/s]"
      ]
     },
     "metadata": {},
     "output_type": "display_data"
    },
    {
     "name": "stderr",
     "output_type": "stream",
     "text": [
      "/home/blab-answerer/anaconda3/lib/python3.8/site-packages/torch/nn/parallel/_functions.py:65: UserWarning: Was asked to gather along dimension 0, but all input tensors were scalars; will instead unsqueeze and return a vector.\n",
      "  warnings.warn('Was asked to gather along dimension 0, but all '\n"
     ]
    },
    {
     "name": "stdout",
     "output_type": "stream",
     "text": [
      "accuracy_score: 0.9981024667931688\n"
     ]
    }
   ],
   "source": [
    "# Validate the model\n",
    "result, model_outputs, wrong_predictions = model.eval_model(MSMARCO)\n",
    "preds, _ = model.predict(list(MSMARCO['question_pt']))\n",
    "\n",
    "acc = accuracy_score(MSMARCO['type'].values, preds)\n",
    "print(\"accuracy_score: \" + str(acc))"
   ]
  },
  {
   "cell_type": "code",
   "execution_count": 13,
   "id": "6bf6f6ca",
   "metadata": {},
   "outputs": [
    {
     "data": {
      "text/html": [
       "<div>\n",
       "<style scoped>\n",
       "    .dataframe tbody tr th:only-of-type {\n",
       "        vertical-align: middle;\n",
       "    }\n",
       "\n",
       "    .dataframe tbody tr th {\n",
       "        vertical-align: top;\n",
       "    }\n",
       "\n",
       "    .dataframe thead th {\n",
       "        text-align: right;\n",
       "    }\n",
       "</style>\n",
       "<table border=\"1\" class=\"dataframe\">\n",
       "  <thead>\n",
       "    <tr style=\"text-align: right;\">\n",
       "      <th></th>\n",
       "      <th>question_pt</th>\n",
       "      <th>type</th>\n",
       "      <th>pred</th>\n",
       "    </tr>\n",
       "  </thead>\n",
       "  <tbody>\n",
       "    <tr>\n",
       "      <th>313</th>\n",
       "      <td>o paciente que era um mineiro de carvão</td>\n",
       "      <td>1</td>\n",
       "      <td>0</td>\n",
       "    </tr>\n",
       "    <tr>\n",
       "      <th>505</th>\n",
       "      <td>A (n) ____ é o atributo na entidade SuperType que determina a qual subtipo de entidade cada ocorrência de SuperType está relacionada</td>\n",
       "      <td>1</td>\n",
       "      <td>0</td>\n",
       "    </tr>\n",
       "    <tr>\n",
       "      <th>1304</th>\n",
       "      <td>O que os medicamentos são chamados de pacientes com saúde mental</td>\n",
       "      <td>1</td>\n",
       "      <td>0</td>\n",
       "    </tr>\n",
       "    <tr>\n",
       "      <th>1306</th>\n",
       "      <td>Qual é o propósito do pedido de Hektoen Enteric Agar</td>\n",
       "      <td>1</td>\n",
       "      <td>0</td>\n",
       "    </tr>\n",
       "    <tr>\n",
       "      <th>1739</th>\n",
       "      <td>_____ Descobri diferenças significativas entre os organismos originalmente categorizados sob o Reino Monera; Assim, esses organismos foram colocados em dois domínios separados</td>\n",
       "      <td>1</td>\n",
       "      <td>0</td>\n",
       "    </tr>\n",
       "    <tr>\n",
       "      <th>2629</th>\n",
       "      <td>Qual é o propósito do programa de assistência de medicamentos</td>\n",
       "      <td>1</td>\n",
       "      <td>0</td>\n",
       "    </tr>\n",
       "    <tr>\n",
       "      <th>2939</th>\n",
       "      <td>que tipo de droga é suramin</td>\n",
       "      <td>1</td>\n",
       "      <td>0</td>\n",
       "    </tr>\n",
       "    <tr>\n",
       "      <th>3166</th>\n",
       "      <td>Que opção de tratamento a enfermeira antecipa para o paciente com doença de imunodeficiência combinada grave (SCID)</td>\n",
       "      <td>1</td>\n",
       "      <td>0</td>\n",
       "    </tr>\n",
       "    <tr>\n",
       "      <th>3867</th>\n",
       "      <td>Qual é o nome da molécula de destino à qual uma enzima persianas</td>\n",
       "      <td>1</td>\n",
       "      <td>0</td>\n",
       "    </tr>\n",
       "  </tbody>\n",
       "</table>\n",
       "</div>"
      ],
      "text/plain": [
       "                                                                                                                                                                          question_pt  \\\n",
       "313                                                                                                                                           o paciente que era um mineiro de carvão   \n",
       "505                                              A (n) ____ é o atributo na entidade SuperType que determina a qual subtipo de entidade cada ocorrência de SuperType está relacionada   \n",
       "1304                                                                                                                 O que os medicamentos são chamados de pacientes com saúde mental   \n",
       "1306                                                                                                                             Qual é o propósito do pedido de Hektoen Enteric Agar   \n",
       "1739  _____ Descobri diferenças significativas entre os organismos originalmente categorizados sob o Reino Monera; Assim, esses organismos foram colocados em dois domínios separados   \n",
       "2629                                                                                                                    Qual é o propósito do programa de assistência de medicamentos   \n",
       "2939                                                                                                                                                      que tipo de droga é suramin   \n",
       "3166                                                              Que opção de tratamento a enfermeira antecipa para o paciente com doença de imunodeficiência combinada grave (SCID)   \n",
       "3867                                                                                                                 Qual é o nome da molécula de destino à qual uma enzima persianas   \n",
       "\n",
       "      type  pred  \n",
       "313      1     0  \n",
       "505      1     0  \n",
       "1304     1     0  \n",
       "1306     1     0  \n",
       "1739     1     0  \n",
       "2629     1     0  \n",
       "2939     1     0  \n",
       "3166     1     0  \n",
       "3867     1     0  "
      ]
     },
     "execution_count": 13,
     "metadata": {},
     "output_type": "execute_result"
    }
   ],
   "source": [
    "MSMARCO['pred'] = pd.Series(preds, index=MSMARCO.index)\n",
    "pd.set_option(\"display.max_colwidth\", None)\n",
    "\n",
    "MSMARCO[MSMARCO.pred == 0]"
   ]
  },
  {
   "cell_type": "markdown",
   "id": "72901aa3",
   "metadata": {},
   "source": [
    "MIMIC"
   ]
  },
  {
   "cell_type": "code",
   "execution_count": 7,
   "id": "60ec2f0b",
   "metadata": {},
   "outputs": [
    {
     "name": "stderr",
     "output_type": "stream",
     "text": [
      "/home/blab-answerer/anaconda3/lib/python3.8/site-packages/simpletransformers/classification/classification_model.py:1401: UserWarning: Dataframe headers not specified. Falling back to using column 0 as text and column 1 as labels.\n",
      "  warnings.warn(\n"
     ]
    },
    {
     "data": {
      "application/vnd.jupyter.widget-view+json": {
       "model_id": "e7429ed26d444ca284d51dc3cccbca17",
       "version_major": 2,
       "version_minor": 0
      },
      "text/plain": [
       "  0%|          | 0/1000 [00:00<?, ?it/s]"
      ]
     },
     "metadata": {},
     "output_type": "display_data"
    },
    {
     "data": {
      "application/vnd.jupyter.widget-view+json": {
       "model_id": "01593347bc88499d930331a16c9490b0",
       "version_major": 2,
       "version_minor": 0
      },
      "text/plain": [
       "Running Evaluation:   0%|          | 0/125 [00:00<?, ?it/s]"
      ]
     },
     "metadata": {},
     "output_type": "display_data"
    },
    {
     "name": "stderr",
     "output_type": "stream",
     "text": [
      "/home/blab-answerer/anaconda3/lib/python3.8/site-packages/torch/nn/parallel/_functions.py:65: UserWarning: Was asked to gather along dimension 0, but all input tensors were scalars; will instead unsqueeze and return a vector.\n",
      "  warnings.warn('Was asked to gather along dimension 0, but all '\n",
      "/home/blab-answerer/anaconda3/lib/python3.8/site-packages/sklearn/metrics/_classification.py:873: RuntimeWarning: invalid value encountered in double_scalars\n",
      "  mcc = cov_ytyp / np.sqrt(cov_ytyt * cov_ypyp)\n",
      "/home/blab-answerer/anaconda3/lib/python3.8/site-packages/sklearn/metrics/_ranking.py:949: UndefinedMetricWarning: No positive samples in y_true, true positive value should be meaningless\n",
      "  warnings.warn(\"No positive samples in y_true, \"\n",
      "/home/blab-answerer/anaconda3/lib/python3.8/site-packages/sklearn/metrics/_ranking.py:817: RuntimeWarning: invalid value encountered in true_divide\n",
      "  recall = tps / tps[-1]\n"
     ]
    },
    {
     "data": {
      "application/vnd.jupyter.widget-view+json": {
       "model_id": "54d398780ad24c95af4b28821b036e80",
       "version_major": 2,
       "version_minor": 0
      },
      "text/plain": [
       "  0%|          | 0/1000 [00:00<?, ?it/s]"
      ]
     },
     "metadata": {},
     "output_type": "display_data"
    },
    {
     "data": {
      "application/vnd.jupyter.widget-view+json": {
       "model_id": "f8bc8a50af524405b8637a2ea3423435",
       "version_major": 2,
       "version_minor": 0
      },
      "text/plain": [
       "  0%|          | 0/125 [00:00<?, ?it/s]"
      ]
     },
     "metadata": {},
     "output_type": "display_data"
    },
    {
     "name": "stderr",
     "output_type": "stream",
     "text": [
      "/home/blab-answerer/anaconda3/lib/python3.8/site-packages/torch/nn/parallel/_functions.py:65: UserWarning: Was asked to gather along dimension 0, but all input tensors were scalars; will instead unsqueeze and return a vector.\n",
      "  warnings.warn('Was asked to gather along dimension 0, but all '\n"
     ]
    },
    {
     "name": "stdout",
     "output_type": "stream",
     "text": [
      "accuracy_score: 0.996\n"
     ]
    }
   ],
   "source": [
    "# Validate the model\n",
    "result, model_outputs, wrong_predictions = model.eval_model(MIMIC)\n",
    "preds, _ = model.predict(list(MIMIC['question_pt']))\n",
    "\n",
    "acc = accuracy_score(MIMIC['type'].values, preds)\n",
    "print(\"accuracy_score: \" + str(acc))"
   ]
  },
  {
   "cell_type": "code",
   "execution_count": 8,
   "id": "de7cded5",
   "metadata": {},
   "outputs": [
    {
     "data": {
      "text/html": [
       "<div>\n",
       "<style scoped>\n",
       "    .dataframe tbody tr th:only-of-type {\n",
       "        vertical-align: middle;\n",
       "    }\n",
       "\n",
       "    .dataframe tbody tr th {\n",
       "        vertical-align: top;\n",
       "    }\n",
       "\n",
       "    .dataframe thead th {\n",
       "        text-align: right;\n",
       "    }\n",
       "</style>\n",
       "<table border=\"1\" class=\"dataframe\">\n",
       "  <thead>\n",
       "    <tr style=\"text-align: right;\">\n",
       "      <th></th>\n",
       "      <th>question_pt</th>\n",
       "      <th>type</th>\n",
       "      <th>pred</th>\n",
       "    </tr>\n",
       "  </thead>\n",
       "  <tbody>\n",
       "    <tr>\n",
       "      <th>242</th>\n",
       "      <td>Qual idioma cynthia gomez entende</td>\n",
       "      <td>0</td>\n",
       "      <td>1</td>\n",
       "    </tr>\n",
       "    <tr>\n",
       "      <th>271</th>\n",
       "      <td>Como a nitroglicerina SL administrada</td>\n",
       "      <td>0</td>\n",
       "      <td>1</td>\n",
       "    </tr>\n",
       "    <tr>\n",
       "      <th>356</th>\n",
       "      <td>Theresa vedovelli está sofrendo principalmente...</td>\n",
       "      <td>0</td>\n",
       "      <td>1</td>\n",
       "    </tr>\n",
       "    <tr>\n",
       "      <th>397</th>\n",
       "      <td>Como os Nephrocaps são administrados</td>\n",
       "      <td>0</td>\n",
       "      <td>1</td>\n",
       "    </tr>\n",
       "  </tbody>\n",
       "</table>\n",
       "</div>"
      ],
      "text/plain": [
       "                                           question_pt  type  pred\n",
       "242                  Qual idioma cynthia gomez entende     0     1\n",
       "271              Como a nitroglicerina SL administrada     0     1\n",
       "356  Theresa vedovelli está sofrendo principalmente...     0     1\n",
       "397               Como os Nephrocaps são administrados     0     1"
      ]
     },
     "execution_count": 8,
     "metadata": {},
     "output_type": "execute_result"
    }
   ],
   "source": [
    "MIMIC['pred'] = pd.Series(preds, index=MIMIC.index)\n",
    "MIMIC[MIMIC.pred == 1]\n"
   ]
  },
  {
   "cell_type": "markdown",
   "id": "d9fc122a",
   "metadata": {},
   "source": [
    "SPIDER"
   ]
  },
  {
   "cell_type": "code",
   "execution_count": 9,
   "id": "d989bd3c",
   "metadata": {},
   "outputs": [
    {
     "name": "stderr",
     "output_type": "stream",
     "text": [
      "/home/blab-answerer/anaconda3/lib/python3.8/site-packages/simpletransformers/classification/classification_model.py:1401: UserWarning: Dataframe headers not specified. Falling back to using column 0 as text and column 1 as labels.\n",
      "  warnings.warn(\n"
     ]
    },
    {
     "data": {
      "application/vnd.jupyter.widget-view+json": {
       "model_id": "84a81b9c6eca446ab1db74abdb9bb7ee",
       "version_major": 2,
       "version_minor": 0
      },
      "text/plain": [
       "  0%|          | 0/100 [00:00<?, ?it/s]"
      ]
     },
     "metadata": {},
     "output_type": "display_data"
    },
    {
     "data": {
      "application/vnd.jupyter.widget-view+json": {
       "model_id": "6c008aeece754adb9c02e8e0ecb6b46a",
       "version_major": 2,
       "version_minor": 0
      },
      "text/plain": [
       "Running Evaluation:   0%|          | 0/13 [00:00<?, ?it/s]"
      ]
     },
     "metadata": {},
     "output_type": "display_data"
    },
    {
     "name": "stderr",
     "output_type": "stream",
     "text": [
      "/home/blab-answerer/anaconda3/lib/python3.8/site-packages/torch/nn/parallel/_functions.py:65: UserWarning: Was asked to gather along dimension 0, but all input tensors were scalars; will instead unsqueeze and return a vector.\n",
      "  warnings.warn('Was asked to gather along dimension 0, but all '\n",
      "/home/blab-answerer/anaconda3/lib/python3.8/site-packages/sklearn/metrics/_classification.py:873: RuntimeWarning: invalid value encountered in double_scalars\n",
      "  mcc = cov_ytyp / np.sqrt(cov_ytyt * cov_ypyp)\n",
      "/home/blab-answerer/anaconda3/lib/python3.8/site-packages/sklearn/metrics/_ranking.py:949: UndefinedMetricWarning: No positive samples in y_true, true positive value should be meaningless\n",
      "  warnings.warn(\"No positive samples in y_true, \"\n",
      "/home/blab-answerer/anaconda3/lib/python3.8/site-packages/sklearn/metrics/_ranking.py:817: RuntimeWarning: invalid value encountered in true_divide\n",
      "  recall = tps / tps[-1]\n"
     ]
    },
    {
     "data": {
      "application/vnd.jupyter.widget-view+json": {
       "model_id": "884ccec7d01e44cda420844d9e8bc5f7",
       "version_major": 2,
       "version_minor": 0
      },
      "text/plain": [
       "  0%|          | 0/100 [00:00<?, ?it/s]"
      ]
     },
     "metadata": {},
     "output_type": "display_data"
    },
    {
     "data": {
      "application/vnd.jupyter.widget-view+json": {
       "model_id": "fd343f871bcf465e99b779f16a77e6fa",
       "version_major": 2,
       "version_minor": 0
      },
      "text/plain": [
       "  0%|          | 0/13 [00:00<?, ?it/s]"
      ]
     },
     "metadata": {},
     "output_type": "display_data"
    },
    {
     "name": "stderr",
     "output_type": "stream",
     "text": [
      "/home/blab-answerer/anaconda3/lib/python3.8/site-packages/torch/nn/parallel/_functions.py:65: UserWarning: Was asked to gather along dimension 0, but all input tensors were scalars; will instead unsqueeze and return a vector.\n",
      "  warnings.warn('Was asked to gather along dimension 0, but all '\n"
     ]
    },
    {
     "name": "stdout",
     "output_type": "stream",
     "text": [
      "accuracy_score: 0.98\n"
     ]
    }
   ],
   "source": [
    "# Validate the model\n",
    "result, model_outputs, wrong_predictions = model.eval_model(SPIDER)\n",
    "preds, _ = model.predict(list(SPIDER['question_pt']))\n",
    "\n",
    "acc = accuracy_score(SPIDER['type'].values, preds)\n",
    "print(\"accuracy_score: \" + str(acc))"
   ]
  },
  {
   "cell_type": "code",
   "execution_count": 10,
   "id": "cee81041",
   "metadata": {},
   "outputs": [
    {
     "data": {
      "text/html": [
       "<div>\n",
       "<style scoped>\n",
       "    .dataframe tbody tr th:only-of-type {\n",
       "        vertical-align: middle;\n",
       "    }\n",
       "\n",
       "    .dataframe tbody tr th {\n",
       "        vertical-align: top;\n",
       "    }\n",
       "\n",
       "    .dataframe thead th {\n",
       "        text-align: right;\n",
       "    }\n",
       "</style>\n",
       "<table border=\"1\" class=\"dataframe\">\n",
       "  <thead>\n",
       "    <tr style=\"text-align: right;\">\n",
       "      <th></th>\n",
       "      <th>question_pt</th>\n",
       "      <th>type</th>\n",
       "      <th>pred</th>\n",
       "    </tr>\n",
       "  </thead>\n",
       "  <tbody>\n",
       "    <tr>\n",
       "      <th>73</th>\n",
       "      <td>Quais são os três procedimentos mais caros</td>\n",
       "      <td>0</td>\n",
       "      <td>1</td>\n",
       "    </tr>\n",
       "    <tr>\n",
       "      <th>77</th>\n",
       "      <td>Qual médico foi treinado no procedimento que c...</td>\n",
       "      <td>0</td>\n",
       "      <td>1</td>\n",
       "    </tr>\n",
       "  </tbody>\n",
       "</table>\n",
       "</div>"
      ],
      "text/plain": [
       "                                          question_pt  type  pred\n",
       "73         Quais são os três procedimentos mais caros     0     1\n",
       "77  Qual médico foi treinado no procedimento que c...     0     1"
      ]
     },
     "execution_count": 10,
     "metadata": {},
     "output_type": "execute_result"
    }
   ],
   "source": [
    "SPIDER['pred'] = pd.Series(preds, index=SPIDER.index)\n",
    "SPIDER[SPIDER.pred == 1]"
   ]
  }
 ],
 "metadata": {
  "kernelspec": {
   "display_name": "Python 3 (ipykernel)",
   "language": "python",
   "name": "python3"
  },
  "language_info": {
   "codemirror_mode": {
    "name": "ipython",
    "version": 3
   },
   "file_extension": ".py",
   "mimetype": "text/x-python",
   "name": "python",
   "nbconvert_exporter": "python",
   "pygments_lexer": "ipython3",
   "version": "3.9.7"
  }
 },
 "nbformat": 4,
 "nbformat_minor": 5
}
