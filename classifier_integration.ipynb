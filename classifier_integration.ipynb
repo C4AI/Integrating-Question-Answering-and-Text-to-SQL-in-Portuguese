{
 "cells": [
  {
   "cell_type": "code",
   "execution_count": 1,
   "id": "ec4cd7de",
   "metadata": {},
   "outputs": [
    {
     "name": "stderr",
     "output_type": "stream",
     "text": [
      "2021-10-23 11:59:38.215505: I tensorflow/stream_executor/platform/default/dso_loader.cc:53] Successfully opened dynamic library libcudart.so.11.0\n"
     ]
    }
   ],
   "source": [
    "import csv\n",
    "import time\n",
    "import os\n",
    "from simpletransformers.classification import ClassificationModel, ClassificationArgs\n"
   ]
  },
  {
   "cell_type": "code",
   "execution_count": 2,
   "id": "cbf50023",
   "metadata": {},
   "outputs": [],
   "source": [
    "path_SQL = \"/mnt/ciaamS03/mnt/Files/integration/nl2sql/\"\n",
    "path_BM25 = \"/mnt/ciaamS03/mnt/Files/integration/bm25/\"\n",
    "PATH_INTEGRATION_PTT5 = '/mnt/ciaamS03/mnt/Files/integration/ptt5/'\n",
    "\n",
    "\n",
    "#question = \"Qual departamento possui o maior número de funcionários?\"\n",
    "#question = \"Encontre o departamento com mais funcionários.\"\n",
    "#question = \"Qual é o id de funcionário do chefe cujo departamento tem o menor número de funcionários?\"\n",
    "#question = \"Conte quantas marcações foram feitas no total.\"\n",
    "#question = \"Encontre os nomes das enfermeiras que estão de plantão.\"\n",
    "#question = \"Quais são os nomes distintos das enfermeiras de plantão.\"\n",
    "#question = \"Encontre os nomes das enfermeiras que estão amamentando e em tratamento.\"\n",
    "#question = \"Quais são os enfermeiros responsáveis pelos pacientes em tratamento?\"\"\n",
    "#question = \"Liste os nomes de todos os medicamentos distintos, ordenados em ordem alfabética.\"\n",
    "question = \"Encontre os 3 procedimentos mais caros\"\n",
    "\n",
    "\n",
    "#question = \"O que é transtorno obsessivo compulsivo\"\n",
    "#question = \"quanto tempo depois da gripe eu sou infeccioso\"\n",
    "#question = \"O que causa dor nas costas\""
   ]
  },
  {
   "cell_type": "code",
   "execution_count": 3,
   "id": "b3504b30",
   "metadata": {},
   "outputs": [],
   "source": [
    "model_args = {\n",
    "    'n_gpu': 1\n",
    "}\n",
    "model = ClassificationModel('bert', 'Bertimbau_Classificador/checkpoint-2845-epoch-5', num_labels=2, args=model_args)\n",
    "\n"
   ]
  },
  {
   "cell_type": "code",
   "execution_count": 4,
   "id": "95c6614e",
   "metadata": {
    "scrolled": true
   },
   "outputs": [
    {
     "data": {
      "application/vnd.jupyter.widget-view+json": {
       "model_id": "586ac95386ab409792b31b73a26a7ab3",
       "version_major": 2,
       "version_minor": 0
      },
      "text/plain": [
       "  0%|          | 0/1 [00:00<?, ?it/s]"
      ]
     },
     "metadata": {},
     "output_type": "display_data"
    },
    {
     "data": {
      "application/vnd.jupyter.widget-view+json": {
       "model_id": "5bed8f8cdce3419d846d84a639cfeb02",
       "version_major": 2,
       "version_minor": 0
      },
      "text/plain": [
       "  0%|          | 0/1 [00:00<?, ?it/s]"
      ]
     },
     "metadata": {},
     "output_type": "display_data"
    },
    {
     "name": "stdout",
     "output_type": "stream",
     "text": [
      "SQL question detect\n",
      "Send Question\n",
      "Write path: /mnt/ciaamS03/mnt/Files/integration/nl2sql/\n",
      "Question: Encontre os 3 procedimentos mais caros\n",
      "Waiting for response...\n",
      "\n",
      "\n",
      "New response arrive:\n",
      "\n",
      "New response arrive:\n",
      "Question: Encontre os 3 procedimentos mais caros\n",
      "Query:SELECT Procedures.Name FROM Procedures ORDER BY Procedures.Cost Asc LIMIT 1\n",
      "--- 5.338847637176514 seconds ---\n"
     ]
    }
   ],
   "source": [
    "start_time = time.time()\n",
    "\n",
    "preds, _ = model.predict([question])\n",
    "if preds[0]==0:\n",
    "    print(\"SQL question detect\")\n",
    "    print(f\"Send Question\\nWrite path: {path_SQL}\\nQuestion: {question}\")\n",
    "    question_in = open(path_SQL + \"in/question.csv\", \"w\", encoding='utf8')\n",
    "    question_in.write(f\"{question}\")\n",
    "    question_in.close()   \n",
    "\n",
    "    ready_in = open(path_SQL + \"in/ready.txt\", \"w\", encoding='utf8') \n",
    "    ready_in.write(\"Done\")#qualquer conteúdo\n",
    "    ready_in.close()\n",
    "\n",
    "    print(\"Waiting for response...\\n\")\n",
    "\n",
    "    #Espera a resposta\n",
    "    response = False\n",
    "    while response == False:\n",
    "        time.sleep(0.5)#em segundos\n",
    "\n",
    "        ready_out = os.path.exists(path_SQL + \"out/ready.txt\")\n",
    "        query_out = os.path.exists(path_SQL + \"out/queries.csv\")\n",
    "\n",
    "        if ready_out == True and query_out == True:\n",
    "            print(\"\\nNew response arrive:\")\n",
    "            time.sleep(0.5)#em segundos\n",
    "            with open(path_SQL + \"out/queries.csv\", newline = '', encoding='utf8') as csv_out:\n",
    "                csv_out_reader = csv.reader(csv_out, delimiter=';')\n",
    "                for csv_i in csv_out_reader:\n",
    "                    print(f\"Question: {csv_i[0]}\\nQuery:{csv_i[1]}\")\n",
    "                    response = True\n",
    "                    os.remove(path_SQL + \"out/ready.txt\")  #Deletado indica que terminou o processamento\n",
    "                    os.remove(path_SQL + \"out/queries.csv\") #Deletado indica que terminou o processamento\n",
    "                    break #só o primeiro\n",
    "else:\n",
    "    print(\"Factual question detected\")\n",
    "    print(f\"Send Question\\nWrite path: {path_BM25}\\nQuestion: {question}\")\n",
    "    question_in = open(path_BM25 + \"in/question.csv\", \"w\", encoding='utf8')\n",
    "    question_in.write(f\"{question}\")\n",
    "    question_in.close()   \n",
    "\n",
    "    ready_in = open(path_BM25 + \"in/ready.txt\", \"w\", encoding='utf8') \n",
    "    ready_in.write(\"Done\")#qualquer conteúdo\n",
    "    ready_in.close()\n",
    "\n",
    "    print(\"Waiting for response...\\n\")\n",
    "\n",
    "    #Espera a resposta\n",
    "    response = False\n",
    "    while response == False:\n",
    "        time.sleep(0.5)#em segundos\n",
    "\n",
    "        ready_out = os.path.exists(path_BM25 + \"out/ready.txt\")\n",
    "        query_out = os.path.exists(path_BM25 + \"out/queries.csv\")\n",
    "\n",
    "        if ready_out == True and query_out == True:\n",
    "            print(\"\\nNew response arrive:\")\n",
    "            time.sleep(0.5)#em segundos\n",
    "            \n",
    "            with open(path_BM25 + \"out/queries.csv\", newline = '', encoding='utf8') as csv_out:\n",
    "                csv_out_reader = csv.reader(csv_out, delimiter=';')\n",
    "                for csv_i in csv_out_reader:\n",
    "                    print(f\"Question: {csv_i[0]}\\n{csv_i[1]}\")\n",
    "                    response = True\n",
    "                    os.remove(path_BM25 + \"out/ready.txt\")  #Deletado indica que terminou o processamento\n",
    "                    os.remove(path_BM25 + \"out/queries.csv\") #Deletado indica que terminou o processamento\n",
    "                    question_with_passages = csv_i[1]\n",
    "                    break #só o primeiro    \n",
    "                    \n",
    "                    \n",
    "                \n",
    "                    \n",
    "                    \n",
    "    print(f\"\\n\\nSend Question with passages\\nWrite path: {PATH_INTEGRATION_PTT5}\")\n",
    "    question_in = open(PATH_INTEGRATION_PTT5 + \"in/question.csv\", \"w\", encoding='utf8')\n",
    "    question_in.write(f\"{question_with_passages}\")\n",
    "    question_in.close()   \n",
    "\n",
    "    ready_in = open(PATH_INTEGRATION_PTT5 + \"in/ready.txt\", \"w\", encoding='utf8') \n",
    "    ready_in.write(\"Done\")#qualquer conteúdo\n",
    "    ready_in.close()\n",
    "\n",
    "    print(\"Waiting for response...\\n\")\n",
    "\n",
    "    #Espera a resposta\n",
    "    response = False\n",
    "    while response == False:\n",
    "        time.sleep(0.5)#em segundos\n",
    "\n",
    "        ready_out = os.path.exists(PATH_INTEGRATION_PTT5 + \"out/ready.txt\")\n",
    "        query_out = os.path.exists(PATH_INTEGRATION_PTT5 + \"out/answer.csv\")\n",
    "\n",
    "        if ready_out == True and query_out == True:\n",
    "            print(\"\\nNew response arrive:\")\n",
    "            time.sleep(0.5)#em segundos\n",
    "            with open(PATH_INTEGRATION_PTT5 + \"out/answer.csv\", newline = '', encoding='utf8') as csv_out:\n",
    "                csv_out_reader = csv.reader(csv_out, delimiter=';')\n",
    "                for csv_i in csv_out_reader:\n",
    "                    print(f\"Question: {question}\\nAnswer:{csv_i[1]}\")\n",
    "                    response = True\n",
    "                    os.remove(PATH_INTEGRATION_PTT5 + \"out/ready.txt\")  #Deletado indica que terminou o processamento\n",
    "                    os.remove(PATH_INTEGRATION_PTT5 + \"out/answer.csv\") #Deletado indica que terminou o processamento\n",
    "                    break #só o primeiro  \n",
    "                    \n",
    "print(\"--- %s seconds ---\" % (time.time() - start_time))"
   ]
  }
 ],
 "metadata": {
  "kernelspec": {
   "display_name": "Python 3 (ipykernel)",
   "language": "python",
   "name": "python3"
  },
  "language_info": {
   "codemirror_mode": {
    "name": "ipython",
    "version": 3
   },
   "file_extension": ".py",
   "mimetype": "text/x-python",
   "name": "python",
   "nbconvert_exporter": "python",
   "pygments_lexer": "ipython3",
   "version": "3.8.8"
  }
 },
 "nbformat": 4,
 "nbformat_minor": 5
}
